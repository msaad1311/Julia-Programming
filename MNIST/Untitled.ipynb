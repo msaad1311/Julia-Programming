{
 "cells": [
  {
   "cell_type": "code",
   "execution_count": 1,
   "metadata": {},
   "outputs": [],
   "source": [
    "using Flux\n",
    "using Flux: Data.DataLoader\n",
    "using Flux: onehotbatch,onecold,crossentropy\n",
    "using Flux: @epochs\n",
    "using Statistics\n",
    "using MLDatasets\n",
    "using Plots"
   ]
  },
  {
   "cell_type": "code",
   "execution_count": 2,
   "metadata": {},
   "outputs": [],
   "source": [
    "x_train_temp,y_train_temp = MNIST.traindata();\n",
    "x_test_temp,y_test_temp = MNIST.testdata();"
   ]
  },
  {
   "cell_type": "code",
   "execution_count": 3,
   "metadata": {},
   "outputs": [
    {
     "name": "stdout",
     "output_type": "stream",
     "text": [
      "The size of the training images are (28, 28, 60000) and the size of training labels is (60000,)\n",
      "The size of the testing images are (28, 28, 10000) and the size of testing labels is (10000,)"
     ]
    }
   ],
   "source": [
    "println(\"The size of the training images are $(size(x_train_temp)) and the size of training labels is $(size(y_train_temp))\")\n",
    "print(\"The size of the testing images are $(size(x_test_temp)) and the size of testing labels is $(size(y_test_temp))\")"
   ]
  },
  {
   "cell_type": "code",
   "execution_count": 5,
   "metadata": {},
   "outputs": [
    {
     "name": "stdout",
     "output_type": "stream",
     "text": [
      "The size of the training images are (28, 28, 1, 5000) and the size of training labels is (10, 5000)\n",
      "The size of the testing images are (28, 28, 1, 1000) and the size of testing labels is (10, 1000)"
     ]
    }
   ],
   "source": [
    "x_train = Flux.unsqueeze(x_train_temp[:,:,1:5000],3)\n",
    "x_test = Flux.unsqueeze(x_test_temp[:,:,1:1000],3)\n",
    "\n",
    "y_train = onehotbatch(y_train_temp[1:5000],0:9)\n",
    "y_test = onehotbatch(y_test_temp[1:1000],0:9)\n",
    "\n",
    "#Displaying the updated shape of the elements\n",
    "\n",
    "println(\"The size of the training images are $(size(x_train)) and the size of training labels is $(size(y_train))\")\n",
    "print(\"The size of the testing images are $(size(x_test)) and the size of testing labels is $(size(y_test))\")\n",
    "\n",
    "train_data = DataLoader(x_train, y_train, batchsize=128);"
   ]
  },
  {
   "cell_type": "code",
   "execution_count": 6,
   "metadata": {},
   "outputs": [],
   "source": [
    "layer1 = Conv((3,3),1=>8,relu,stride=2)\n",
    "layer2 = Conv((3,3),8=>16,relu)\n",
    "layer3 = Conv((3,3),16=>32,relu)\n",
    "layer4 = GlobalMaxPool()\n",
    "layer5 = flatten\n",
    "layer6 = Dense(32,10)\n",
    "layer7 = softmax;"
   ]
  },
  {
   "cell_type": "code",
   "execution_count": 7,
   "metadata": {
    "scrolled": true
   },
   "outputs": [
    {
     "name": "stdout",
     "output_type": "stream",
     "text": [
      "The layer is Conv((3, 3), 1=>8, relu)\n",
      "The size of the input layer is (28, 28, 1, 5000)\n"
     ]
    },
    {
     "name": "stderr",
     "output_type": "stream",
     "text": [
      "┌ Warning: Slow fallback implementation invoked for conv!  You probably don't want this; check your datatypes.\n",
      "│   yT = Float32\n",
      "│   T1 = FixedPointNumbers.Normed{UInt8,8}\n",
      "│   T2 = Float32\n",
      "└ @ NNlib C:\\Users\\Saad.LAKES\\.julia\\packages\\NNlib\\fxLrD\\src\\conv.jl:206\n"
     ]
    },
    {
     "name": "stdout",
     "output_type": "stream",
     "text": [
      "The size of the output layer is (13, 13, 8, 5000)\n",
      "------------------------------\n",
      "The layer is Conv((3, 3), 8=>16, relu)\n",
      "The size of the input layer is (13, 13, 8, 5000)\n",
      "The size of the output layer is (11, 11, 16, 5000)\n",
      "------------------------------\n",
      "The layer is Conv((3, 3), 16=>32, relu)\n",
      "The size of the input layer is (11, 11, 16, 5000)\n",
      "The size of the output layer is (9, 9, 32, 5000)\n",
      "------------------------------\n",
      "The layer is GlobalMaxPool()\n",
      "The size of the input layer is (9, 9, 32, 5000)\n",
      "The size of the output layer is (1, 1, 32, 5000)\n",
      "------------------------------\n",
      "The layer is flatten\n",
      "The size of the input layer is (1, 1, 32, 5000)\n",
      "The size of the output layer is (32, 5000)\n",
      "------------------------------\n",
      "The layer is Dense(32, 10)\n",
      "The size of the input layer is (32, 5000)\n",
      "The size of the output layer is (10, 5000)\n",
      "------------------------------\n",
      "The layer is softmax\n",
      "The size of the input layer is (10, 5000)\n",
      "The size of the output layer is (10, 5000)\n",
      "------------------------------\n"
     ]
    }
   ],
   "source": [
    "layers = [layer1, layer2, layer3, layer4, layer5, layer6, layer7]\n",
    "x = x_train\n",
    "\n",
    "for l in layers\n",
    "    println(\"The layer is $l\")\n",
    "    println(\"The size of the input layer is $(size(x))\")\n",
    "    x = l(x)\n",
    "    println(\"The size of the output layer is $(size(x))\")\n",
    "    println(\"-\"^30)\n",
    "end"
   ]
  },
  {
   "cell_type": "code",
   "execution_count": 8,
   "metadata": {
    "scrolled": true
   },
   "outputs": [
    {
     "name": "stdout",
     "output_type": "stream",
     "text": [
      "(0,)\n",
      "(0,)\n"
     ]
    },
    {
     "name": "stderr",
     "output_type": "stream",
     "text": [
      "┌ Warning: Slow fallback implementation invoked for ∇conv_filter!  You probably don't want this; check your datatypes.\n",
      "│   yT = Float32\n",
      "│   T1 = FixedPointNumbers.Normed{UInt8,8}\n",
      "│   T2 = Float32\n",
      "└ @ NNlib C:\\Users\\Saad.LAKES\\.julia\\packages\\NNlib\\fxLrD\\src\\conv.jl:206\n"
     ]
    },
    {
     "name": "stdout",
     "output_type": "stream",
     "text": [
      "EPOCH NUMBER: 1\n",
      "Training Loss is 2.1575284\n",
      "Validation Loss is 2.1664102\n",
      "--------------------------------------------------\n",
      "EPOCH NUMBER: 2\n",
      "Training Loss is 1.4864494\n",
      "Validation Loss is 1.5448323\n",
      "--------------------------------------------------\n",
      "EPOCH NUMBER: 3\n",
      "Training Loss is 0.73922306\n",
      "Validation Loss is 0.85528654\n",
      "--------------------------------------------------\n",
      "EPOCH NUMBER: 4\n",
      "Training Loss is 0.4951416\n",
      "Validation Loss is 0.61276335\n",
      "--------------------------------------------------\n",
      "EPOCH NUMBER: 5\n",
      "Training Loss is 0.39214393\n",
      "Validation Loss is 0.5077751\n",
      "--------------------------------------------------\n",
      "EPOCH NUMBER: 6\n",
      "Training Loss is 0.33120143\n",
      "Validation Loss is 0.43990186\n",
      "--------------------------------------------------\n",
      "EPOCH NUMBER: 7\n",
      "Training Loss is 0.2916771\n",
      "Validation Loss is 0.3969089\n",
      "--------------------------------------------------\n",
      "EPOCH NUMBER: 8\n",
      "Training Loss is 0.26448262\n",
      "Validation Loss is 0.36843294\n",
      "--------------------------------------------------\n",
      "EPOCH NUMBER: 9\n",
      "Training Loss is 0.24222758\n",
      "Validation Loss is 0.34490845\n",
      "--------------------------------------------------\n",
      "EPOCH NUMBER: 10\n",
      "Training Loss is 0.22301291\n",
      "Validation Loss is 0.32407108\n",
      "--------------------------------------------------\n"
     ]
    }
   ],
   "source": [
    "model = Chain(layer1, layer2, layer3, layer4, layer5,layer6, layer7)\n",
    "L(x,y) = Flux.crossentropy(model(x),y)\n",
    "opt = Flux.Optimise.ADAM()\n",
    "ps = Flux.params(model)\n",
    "training_loss = Vector{Float64}()\n",
    "validation_loss = Vector{Float64}()\n",
    "\n",
    "training_accuracy= Vector{Float64}()\n",
    "validation_accuracy = Vector{Float64}()\n",
    "\n",
    "accuracy(ŷ, y) = mean(onecold(ŷ) .== onecold(y))\n",
    "\n",
    "println(size(training_loss))\n",
    "println(size(validation_loss))\n",
    "\n",
    "total_step = 10\n",
    "\n",
    "for step in 1:total_step\n",
    "    Flux.train!(L,ps,train_data,opt)\n",
    "    println(\"EPOCH NUMBER: $step\")\n",
    "    println(\"Training Loss is $(L(x_train,y_train))\")\n",
    "    println(\"Validation Loss is $(L(x_test,y_test))\")\n",
    "    println(\"-\"^50)\n",
    "    push!(training_loss,L(x_train,y_train))\n",
    "    push!(validation_loss,L(x_test,y_test))\n",
    "    \n",
    "    push!(training_accuracy,accuracy(model(x_train),y_train))\n",
    "    push!(validation_accuracy,accuracy(model(x_test),y_test))\n",
    "end"
   ]
  },
  {
   "cell_type": "code",
   "execution_count": 11,
   "metadata": {},
   "outputs": [],
   "source": [
    "loss = hcat(training_loss,validation_loss)\n",
    "metric = hcat(training_accuracy,validation_accuracy);"
   ]
  },
  {
   "cell_type": "code",
   "execution_count": 21,
   "metadata": {},
   "outputs": [
    {
     "data": {
      "image/png": "[encoded data removed]"
     },
     "execution_count": 21,
     "metadata": {},
     "output_type": "execute_result"
    }
   ],
   "source": [
    "plot(plot(1:total_step,loss,title=\"Model Loss\", label=[\"Training Loss\" \"Validaton Loss\"],xlabel=\"Epochs\",ylabel=\"Loss\"),\n",
    "plot(1:total_step,metric,title=\"Model Accuracy\", label=[\"Training Accuracy\" \"Validaton Accuracy\"],xlabel=\"Epochs\",ylabel=\"Accuracy\",legend=:bottomright))"
   ]
  },
  {
   "cell_type": "code",
   "execution_count": 19,
   "metadata": {},
   "outputs": [
    {
     "ename": "LoadError",
     "evalue": "MethodError: no method matching png(::Plots.Plot{Plots.GRBackend})\nClosest candidates are:\n  png(::Plots.Plot, !Matched::AbstractString) at C:\\Users\\Saad.LAKES\\.julia\\packages\\Plots\\IjNHT\\src\\output.jl:4\n  png(!Matched::AbstractString) at C:\\Users\\Saad.LAKES\\.julia\\packages\\Plots\\IjNHT\\src\\output.jl:10",
     "output_type": "error",
     "traceback": [
      "MethodError: no method matching png(::Plots.Plot{Plots.GRBackend})\nClosest candidates are:\n  png(::Plots.Plot, !Matched::AbstractString) at C:\\Users\\Saad.LAKES\\.julia\\packages\\Plots\\IjNHT\\src\\output.jl:4\n  png(!Matched::AbstractString) at C:\\Users\\Saad.LAKES\\.julia\\packages\\Plots\\IjNHT\\src\\output.jl:10",
      "",
      "Stacktrace:",
      " [1] top-level scope at In[19]:1",
      " [2] include_string(::Function, ::Module, ::String, ::String) at .\\loading.jl:1091"
     ]
    }
   ],
   "source": [
    "savefig(output)"
   ]
  },
  {
   "cell_type": "code",
   "execution_count": null,
   "metadata": {},
   "outputs": [],
   "source": []
  }
 ],
 "metadata": {
  "kernelspec": {
   "display_name": "Julia 1.5.3",
   "language": "julia",
   "name": "julia-1.5"
  },
  "language_info": {
   "file_extension": ".jl",
   "mimetype": "application/julia",
   "name": "julia",
   "version": "1.5.3"
  }
 },
 "nbformat": 4,
 "nbformat_minor": 4
}
