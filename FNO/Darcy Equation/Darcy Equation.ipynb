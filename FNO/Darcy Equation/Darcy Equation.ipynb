{
 "cells": [
  {
   "cell_type": "code",
   "execution_count": 1,
   "metadata": {},
   "outputs": [],
   "source": [
    "import importlib\n",
    "import utilities3\n",
    "importlib.reload(utilities3)\n",
    "import numpy as np\n",
    "import torch\n",
    "import torch.nn as nn\n",
    "import torch.nn.functional as F\n",
    "from torch.nn.parameter import Parameter\n",
    "import matplotlib.pyplot as plt\n",
    "\n",
    "import operator\n",
    "from functools import reduce\n",
    "from functools import partial\n",
    "from timeit import default_timer"
   ]
  },
  {
   "cell_type": "code",
   "execution_count": 2,
   "metadata": {},
   "outputs": [],
   "source": [
    "ntrain = 1000\n",
    "ntest = 100\n",
    "\n",
    "batch_size = 20\n",
    "learning_rate = 0.001\n",
    "\n",
    "epochs = 500\n",
    "step_size = 100\n",
    "gamma = 0.5\n",
    "\n",
    "r = 5\n",
    "h = int(((421 - 1)/r) + 1)\n",
    "s = h\n",
    "\n",
    "modes = 12\n",
    "width = 32"
   ]
  },
  {
   "cell_type": "code",
   "execution_count": 3,
   "metadata": {},
   "outputs": [],
   "source": [
    "class SpectralConv2d(nn.Module):\n",
    "    def __init__(self, in_channels, out_channels, modes1, modes2):\n",
    "        super(SpectralConv2d, self).__init__()\n",
    "\n",
    "        \"\"\"\n",
    "        2D Fourier layer. It does FFT, linear transform, and Inverse FFT.    \n",
    "        \"\"\"\n",
    "\n",
    "        self.in_channels = in_channels\n",
    "        self.out_channels = out_channels\n",
    "        self.modes1 = modes1 #Number of Fourier modes to multiply, at most floor(N/2) + 1\n",
    "        self.modes2 = modes2\n",
    "\n",
    "        self.scale = (1 / (in_channels * out_channels))\n",
    "        self.weights1 = nn.Parameter(self.scale * torch.rand(in_channels, out_channels, self.modes1, self.modes2, 2))\n",
    "        self.weights2 = nn.Parameter(self.scale * torch.rand(in_channels, out_channels, self.modes1, self.modes2, 2))\n",
    "\n",
    "    def forward(self, x):\n",
    "        batchsize = x.shape[0]\n",
    "        #Compute Fourier coeffcients up to factor of e^(- something constant)\n",
    "        x_ft = torch.rfft(x, 2, normalized=True, onesided=True)\n",
    "\n",
    "        # Multiply relevant Fourier modes\n",
    "        out_ft = torch.zeros(batchsize, self.in_channels,  x.size(-2), x.size(-1)//2 + 1, 2, device=x.device)\n",
    "        out_ft[:, :, :self.modes1, :self.modes2] = \\\n",
    "            compl_mul2d(x_ft[:, :, :self.modes1, :self.modes2], self.weights1)\n",
    "        out_ft[:, :, -self.modes1:, :self.modes2] = \\\n",
    "            compl_mul2d(x_ft[:, :, -self.modes1:, :self.modes2], self.weights2)\n",
    "\n",
    "        #Return to physical space\n",
    "        x = torch.irfft(out_ft, 2, normalized=True, onesided=True, signal_sizes=( x.size(-2), x.size(-1)))\n",
    "        return x\n",
    "\n",
    "class SimpleBlock2d(nn.Module):\n",
    "    def __init__(self, modes1, modes2,  width):\n",
    "        super(SimpleBlock2d, self).__init__()\n",
    "\n",
    "        \"\"\"\n",
    "        The overall network. It contains 4 layers of the Fourier layer.\n",
    "        1. Lift the input to the desire channel dimension by self.fc0 .\n",
    "        2. 4 layers of the integral operators u' = (W + K)(u).\n",
    "            W defined by self.w; K defined by self.conv .\n",
    "        3. Project from the channel space to the output space by self.fc1 and self.fc2 .\n",
    "        \n",
    "        input: the solution of the coefficient function and locations (a(x, y), x, y)\n",
    "        input shape: (batchsize, x=s, y=s, c=3)\n",
    "        output: the solution \n",
    "        output shape: (batchsize, x=s, y=s, c=1)\n",
    "        \"\"\"\n",
    "\n",
    "        self.modes1 = modes1\n",
    "        self.modes2 = modes2\n",
    "        self.width = width\n",
    "        self.fc0 = nn.Linear(3, self.width) # input channel is 3: (a(x, y), x, y)\n",
    "\n",
    "        self.conv0 = SpectralConv2d(self.width, self.width, self.modes1, self.modes2)\n",
    "        self.conv1 = SpectralConv2d(self.width, self.width, self.modes1, self.modes2)\n",
    "        self.conv2 = SpectralConv2d(self.width, self.width, self.modes1, self.modes2)\n",
    "        self.conv3 = SpectralConv2d(self.width, self.width, self.modes1, self.modes2)\n",
    "        self.w0 = nn.Conv1d(self.width, self.width, 1)\n",
    "        self.w1 = nn.Conv1d(self.width, self.width, 1)\n",
    "        self.w2 = nn.Conv1d(self.width, self.width, 1)\n",
    "        self.w3 = nn.Conv1d(self.width, self.width, 1)\n",
    "        self.bn0 = torch.nn.BatchNorm2d(self.width)\n",
    "        self.bn1 = torch.nn.BatchNorm2d(self.width)\n",
    "        self.bn2 = torch.nn.BatchNorm2d(self.width)\n",
    "        self.bn3 = torch.nn.BatchNorm2d(self.width)\n",
    "\n",
    "\n",
    "        self.fc1 = nn.Linear(self.width, 128)\n",
    "        self.fc2 = nn.Linear(128, 1)\n",
    "\n",
    "    def forward(self, x):\n",
    "        batchsize = x.shape[0]\n",
    "        size_x, size_y = x.shape[1], x.shape[2]\n",
    "\n",
    "        x = self.fc0(x)\n",
    "        x = x.permute(0, 3, 1, 2)\n",
    "\n",
    "        x1 = self.conv0(x)\n",
    "        x2 = self.w0(x.view(batchsize, self.width, -1)).view(batchsize, self.width, size_x, size_y)\n",
    "        x = self.bn0(x1 + x2)\n",
    "        x = F.relu(x)\n",
    "        x1 = self.conv1(x)\n",
    "        x2 = self.w1(x.view(batchsize, self.width, -1)).view(batchsize, self.width, size_x, size_y)\n",
    "        x = self.bn1(x1 + x2)\n",
    "        x = F.relu(x)\n",
    "        x1 = self.conv2(x)\n",
    "        x2 = self.w2(x.view(batchsize, self.width, -1)).view(batchsize, self.width, size_x, size_y)\n",
    "        x = self.bn2(x1 + x2)\n",
    "        x = F.relu(x)\n",
    "        x1 = self.conv3(x)\n",
    "        x2 = self.w3(x.view(batchsize, self.width, -1)).view(batchsize, self.width, size_x, size_y)\n",
    "        x = self.bn3(x1 + x2)\n",
    "\n",
    "\n",
    "        x = x.permute(0, 2, 3, 1)\n",
    "        x = self.fc1(x)\n",
    "        x = F.relu(x)\n",
    "        x = self.fc2(x)\n",
    "        return x\n",
    "\n",
    "class Net2d(nn.Module):\n",
    "    def __init__(self, modes, width):\n",
    "        super(Net2d, self).__init__()\n",
    "\n",
    "        \"\"\"\n",
    "        A wrapper function\n",
    "        \"\"\"\n",
    "\n",
    "        self.conv1 = SimpleBlock2d(modes, modes,  width)\n",
    "\n",
    "\n",
    "    def forward(self, x):\n",
    "        x = self.conv1(x)\n",
    "        return x.squeeze()\n",
    "\n",
    "\n",
    "    def count_params(self):\n",
    "        c = 0\n",
    "        for p in self.parameters():\n",
    "            c += reduce(operator.mul, list(p.size()))\n",
    "\n",
    "        return c\n",
    "\n",
    "def compl_mul2d(a, b):\n",
    "    # (batch, in_channel, x,y ), (in_channel, out_channel, x,y) -> (batch, out_channel, x,y)\n",
    "    op = partial(torch.einsum, \"bixy,ioxy->boxy\")\n",
    "    return torch.stack([\n",
    "        op(a[..., 0], b[..., 0]) - op(a[..., 1], b[..., 1]),\n",
    "        op(a[..., 1], b[..., 0]) + op(a[..., 0], b[..., 1])\n",
    "    ], dim=-1)"
   ]
  },
  {
   "cell_type": "code",
   "execution_count": 4,
   "metadata": {},
   "outputs": [],
   "source": [
    "dataloader = utilities3.MatReader('data/piececonst_r421_N1024_smooth1.mat')\n",
    "x_train = dataloader.read_field('coeff')[:ntrain,::r,::r][:,:s,:s]\n",
    "y_train = dataloader.read_field('sol')[:ntrain,::r,::r][:,:s,:s]\n",
    "\n",
    "dataloader = utilities3.MatReader('data/piececonst_r421_N1024_smooth2.mat')\n",
    "x_test = dataloader.read_field('coeff')[:ntest,::r,::r][:,:s,:s]\n",
    "y_test = dataloader.read_field('sol')[:ntest,::r,::r][:,:s,:s]"
   ]
  },
  {
   "cell_type": "code",
   "execution_count": 5,
   "metadata": {},
   "outputs": [
    {
     "name": "stdout",
     "output_type": "stream",
     "text": [
      "The shape of x_train is torch.Size([1000, 85, 85]) and the shape of y_train is torch.Size([1000, 85, 85])\n",
      "The shape of x_test is torch.Size([100, 85, 85]) and the shape of y_test is torch.Size([100, 85, 85])\n"
     ]
    }
   ],
   "source": [
    "print(f'The shape of x_train is {x_train.shape} and the shape of y_train is {y_train.shape}')\n",
    "print(f'The shape of x_test is {x_test.shape} and the shape of y_test is {y_test.shape}')"
   ]
  },
  {
   "cell_type": "code",
   "execution_count": 6,
   "metadata": {},
   "outputs": [],
   "source": [
    "x_normalizer = utilities3.UnitGaussianNormalizer(x_train)\n",
    "x_train = x_normalizer.encode(x_train)\n",
    "x_test = x_normalizer.encode(x_test)\n",
    "\n",
    "y_normalizer = utilities3.UnitGaussianNormalizer(y_train)\n",
    "y_train = y_normalizer.encode(y_train)"
   ]
  },
  {
   "cell_type": "code",
   "execution_count": 7,
   "metadata": {},
   "outputs": [
    {
     "name": "stdout",
     "output_type": "stream",
     "text": [
      "The shape of x_train is torch.Size([1000, 85, 85]) and the shape of y_train is torch.Size([1000, 85, 85])\n",
      "The shape of x_test is torch.Size([100, 85, 85]) and the shape of y_test is torch.Size([100, 85, 85])\n"
     ]
    }
   ],
   "source": [
    "print(f'The shape of x_train is {x_train.shape} and the shape of y_train is {y_train.shape}')\n",
    "print(f'The shape of x_test is {x_test.shape} and the shape of y_test is {y_test.shape}')"
   ]
  },
  {
   "cell_type": "code",
   "execution_count": 8,
   "metadata": {},
   "outputs": [],
   "source": [
    "grids = []\n",
    "grids.append(np.linspace(0, 1, s))\n",
    "grids.append(np.linspace(0, 1, s))\n",
    "grid = np.vstack([xx.ravel() for xx in np.meshgrid(*grids)]).T\n",
    "grid = grid.reshape(1,s,s,2)\n",
    "grid = torch.tensor(grid, dtype=torch.float)"
   ]
  },
  {
   "cell_type": "code",
   "execution_count": 9,
   "metadata": {},
   "outputs": [],
   "source": [
    "x_train = torch.cat([x_train.reshape(ntrain,s,s,1), grid.repeat(ntrain,1,1,1)], dim=3)\n",
    "x_test = torch.cat([x_test.reshape(ntest,s,s,1), grid.repeat(ntest,1,1,1)], dim=3)"
   ]
  },
  {
   "cell_type": "code",
   "execution_count": 10,
   "metadata": {},
   "outputs": [
    {
     "name": "stdout",
     "output_type": "stream",
     "text": [
      "The shape of x_train is torch.Size([1000, 85, 85, 3]) and the shape of y_train is torch.Size([1000, 85, 85])\n",
      "The shape of x_test is torch.Size([100, 85, 85, 3]) and the shape of y_test is torch.Size([100, 85, 85])\n"
     ]
    }
   ],
   "source": [
    "print(f'The shape of x_train is {x_train.shape} and the shape of y_train is {y_train.shape}')\n",
    "print(f'The shape of x_test is {x_test.shape} and the shape of y_test is {y_test.shape}')"
   ]
  },
  {
   "cell_type": "code",
   "execution_count": 11,
   "metadata": {},
   "outputs": [],
   "source": [
    "train_loader = torch.utils.data.DataLoader(torch.utils.data.TensorDataset(x_train, y_train), batch_size=batch_size, shuffle=True)\n",
    "test_loader = torch.utils.data.DataLoader(torch.utils.data.TensorDataset(x_test, y_test), batch_size=batch_size, shuffle=False)"
   ]
  },
  {
   "cell_type": "code",
   "execution_count": 12,
   "metadata": {},
   "outputs": [],
   "source": [
    "model = Net2d(modes, width).cuda()"
   ]
  },
  {
   "cell_type": "code",
   "execution_count": 13,
   "metadata": {},
   "outputs": [],
   "source": [
    "optimizer = torch.optim.Adam(model.parameters(), lr=learning_rate, weight_decay=1e-4)"
   ]
  },
  {
   "cell_type": "code",
   "execution_count": 16,
   "metadata": {
    "scrolled": true
   },
   "outputs": [
    {
     "name": "stdout",
     "output_type": "stream",
     "text": [
      "0 3.905803800000001 0.0001721178682637401 tensor(1.1164e-05, device='cuda:0')\n",
      "1 3.4678374000000076 7.700964684772771e-06 tensor(3.8756e-06, device='cuda:0')\n",
      "2 3.4712475999999697 3.842808891931781e-06 tensor(2.3626e-06, device='cuda:0')\n",
      "3 3.5153096000000232 2.3877577368693894e-06 tensor(1.5831e-06, device='cuda:0')\n",
      "4 3.5389768000000004 1.9066794666287023e-06 tensor(1.2598e-06, device='cuda:0')\n",
      "5 3.785083900000018 1.3290163933561415e-06 tensor(9.1905e-07, device='cuda:0')\n",
      "6 3.6632359999999835 1.408850317602628e-06 tensor(9.1944e-07, device='cuda:0')\n",
      "7 3.718223899999998 1.29437157738721e-06 tensor(9.3619e-07, device='cuda:0')\n",
      "8 3.496165700000006 1.14227463836869e-06 tensor(7.6391e-07, device='cuda:0')\n",
      "9 3.4695955000000254 9.661658950790297e-07 tensor(9.4543e-07, device='cuda:0')\n",
      "10 3.471863799999994 8.049990701692877e-07 tensor(4.5025e-07, device='cuda:0')\n",
      "11 3.472690699999987 7.5688272863772e-07 tensor(5.9746e-07, device='cuda:0')\n",
      "12 3.475187699999992 7.154382392400293e-07 tensor(4.8451e-07, device='cuda:0')\n",
      "13 3.4806835999999635 6.938159667697619e-07 tensor(3.9421e-07, device='cuda:0')\n",
      "14 3.474736699999994 6.218416183401132e-07 tensor(4.1906e-07, device='cuda:0')\n",
      "15 3.4807011999999986 4.807535797226592e-07 tensor(2.9507e-07, device='cuda:0')\n",
      "16 3.486359400000026 8.186982086044736e-07 tensor(4.2664e-07, device='cuda:0')\n",
      "17 3.489591799999971 6.348653437271423e-07 tensor(2.8134e-07, device='cuda:0')\n",
      "18 3.4773538999999687 6.185671591083519e-07 tensor(2.1828e-07, device='cuda:0')\n",
      "19 3.478094800000008 5.79394490159757e-07 tensor(3.5633e-07, device='cuda:0')\n",
      "20 3.4882066000000123 4.566390853142366e-07 tensor(3.2677e-07, device='cuda:0')\n",
      "21 3.480599600000005 3.7761783528367234e-07 tensor(1.6273e-07, device='cuda:0')\n",
      "22 3.48832120000003 3.6464322283791263e-07 tensor(2.5792e-07, device='cuda:0')\n",
      "23 3.4759222999999793 2.76350607691711e-07 tensor(1.6800e-07, device='cuda:0')\n",
      "24 3.480481300000008 2.9544940844061784e-07 tensor(1.5169e-07, device='cuda:0')\n",
      "25 3.4877619000000095 2.4296004721691133e-07 tensor(2.3358e-07, device='cuda:0')\n",
      "26 3.4794641999999953 2.0298707340771215e-07 tensor(1.2278e-07, device='cuda:0')\n",
      "27 3.4910273000000416 1.8194970175500204e-07 tensor(1.2933e-07, device='cuda:0')\n",
      "28 3.4829301999999984 1.6451170449727215e-07 tensor(1.1700e-07, device='cuda:0')\n",
      "29 3.4867777999999703 1.7177987115246652e-07 tensor(1.6208e-07, device='cuda:0')\n",
      "30 3.486345799999981 2.1506538905669004e-07 tensor(8.9792e-08, device='cuda:0')\n",
      "31 3.481930499999976 1.6017788516364817e-07 tensor(1.5748e-07, device='cuda:0')\n",
      "32 3.4887134999999603 1.322855675880419e-07 tensor(1.0012e-07, device='cuda:0')\n",
      "33 3.4837296000000038 1.397137212961752e-07 tensor(8.5231e-08, device='cuda:0')\n",
      "34 3.491385199999968 1.3382673728301597e-07 tensor(1.5864e-07, device='cuda:0')\n",
      "35 3.4844745999999986 1.199803466533922e-07 tensor(8.8044e-08, device='cuda:0')\n",
      "36 3.491121200000009 7.961709638948378e-08 tensor(7.5525e-08, device='cuda:0')\n",
      "37 3.4831500000000233 7.905807302677203e-08 tensor(5.5032e-08, device='cuda:0')\n",
      "38 3.514479300000005 8.451324987390762e-08 tensor(7.3955e-08, device='cuda:0')\n",
      "39 3.5489770000000362 8.372536137812859e-08 tensor(8.9742e-08, device='cuda:0')\n",
      "40 3.482574100000022 8.23919277195273e-08 tensor(4.9196e-08, device='cuda:0')\n",
      "41 3.4888488999999936 5.452399574323863e-08 tensor(4.7519e-08, device='cuda:0')\n",
      "42 3.4916498999999703 6.712348334758645e-08 tensor(3.3067e-08, device='cuda:0')\n",
      "43 3.4860926000000063 5.1242129700312945e-08 tensor(3.8246e-08, device='cuda:0')\n",
      "44 3.4809639999999717 5.191197294607264e-08 tensor(4.7974e-08, device='cuda:0')\n",
      "45 3.486158899999964 4.590481512423139e-08 tensor(3.7359e-08, device='cuda:0')\n",
      "46 3.4836186 6.275950784129237e-08 tensor(6.0428e-08, device='cuda:0')\n",
      "47 3.4839648999999895 4.250873269029398e-08 tensor(3.5838e-08, device='cuda:0')\n",
      "48 3.4921243000000004 3.415167611819925e-08 tensor(4.6328e-08, device='cuda:0')\n",
      "49 3.482586900000001 3.1136953992927376e-08 tensor(2.7816e-08, device='cuda:0')\n",
      "50 3.5129380999999853 3.181102016469595e-08 tensor(2.5692e-08, device='cuda:0')\n",
      "51 3.499604099999999 3.0227850430719625e-08 tensor(2.8129e-08, device='cuda:0')\n",
      "52 3.495022199999994 2.894054546231928e-08 tensor(2.9712e-08, device='cuda:0')\n",
      "53 3.486861699999963 2.560025586717529e-08 tensor(2.2415e-08, device='cuda:0')\n",
      "54 3.4879947000000016 2.357056837354321e-08 tensor(2.4859e-08, device='cuda:0')\n",
      "55 3.5029204999999592 2.3880903853523704e-08 tensor(2.1382e-08, device='cuda:0')\n",
      "56 3.4898350000000278 1.986302015666297e-08 tensor(2.2142e-08, device='cuda:0')\n",
      "57 3.490938799999981 1.9354730824261423e-08 tensor(1.9613e-08, device='cuda:0')\n",
      "58 3.4906837999999993 2.110469438321161e-08 tensor(2.0913e-08, device='cuda:0')\n",
      "59 3.4979288999999767 1.9882882099864217e-08 tensor(3.5180e-08, device='cuda:0')\n",
      "60 3.4891417000000047 1.961853422471904e-08 tensor(2.4910e-08, device='cuda:0')\n",
      "61 3.488664099999994 1.7737267199890995e-08 tensor(2.1282e-08, device='cuda:0')\n",
      "62 3.4955832999999643 1.6619769212411483e-08 tensor(2.0775e-08, device='cuda:0')\n",
      "63 3.486177800000007 1.775225148037407e-08 tensor(1.7824e-08, device='cuda:0')\n",
      "64 3.4964307999999846 1.5933407127022293e-08 tensor(1.6181e-08, device='cuda:0')\n",
      "65 3.4887169999999514 2.026067153337863e-08 tensor(1.9730e-08, device='cuda:0')\n",
      "66 3.4943657999999687 1.945848384821147e-08 tensor(2.2548e-08, device='cuda:0')\n",
      "67 3.4890285999999833 1.7161884159122565e-08 tensor(2.1451e-08, device='cuda:0')\n",
      "68 3.487907000000007 1.8846567343189237e-08 tensor(1.7978e-08, device='cuda:0')\n",
      "69 3.4903518000000417 1.8336444952637977e-08 tensor(2.3870e-08, device='cuda:0')\n",
      "70 3.489212700000053 1.9663637090161502e-08 tensor(2.7277e-08, device='cuda:0')\n",
      "71 3.4947597000000314 1.9760893650300204e-08 tensor(1.8585e-08, device='cuda:0')\n",
      "72 3.490695399999936 2.008692342769791e-08 tensor(2.2007e-08, device='cuda:0')\n",
      "73 3.508811899999955 2.1162320251733034e-08 tensor(2.0008e-08, device='cuda:0')\n",
      "74 3.5307070000000067 1.9738264967372744e-08 tensor(2.1354e-08, device='cuda:0')\n",
      "75 3.4934438000000227 2.019484250581627e-08 tensor(1.8156e-08, device='cuda:0')\n",
      "76 3.5021875999999565 2.0165355721246668e-08 tensor(2.5431e-08, device='cuda:0')\n",
      "77 3.4883925999999974 2.2187476332646837e-08 tensor(2.9860e-08, device='cuda:0')\n",
      "78 3.4952976000000717 2.466153011937422e-08 tensor(2.7868e-08, device='cuda:0')\n",
      "79 3.4874439999999822 2.1342802881463286e-08 tensor(2.1521e-08, device='cuda:0')\n",
      "80 3.4923588999999993 2.1932279224756712e-08 tensor(2.2841e-08, device='cuda:0')\n",
      "81 3.490290200000004 2.3636557159534278e-08 tensor(2.9861e-08, device='cuda:0')\n",
      "82 3.495255600000064 2.566967847883461e-08 tensor(2.8583e-08, device='cuda:0')\n",
      "83 3.8152344000000085 2.6609286067014182e-08 tensor(3.1552e-08, device='cuda:0')\n",
      "84 3.725974899999983 2.4741004978068303e-08 tensor(2.6476e-08, device='cuda:0')\n",
      "85 3.6636263999999983 2.8390181427084828e-08 tensor(5.2650e-08, device='cuda:0')\n",
      "86 3.6433201000000963 3.135182012670157e-08 tensor(2.9318e-08, device='cuda:0')\n",
      "87 3.656547400000022 2.7893518051769205e-08 tensor(3.1377e-08, device='cuda:0')\n",
      "88 3.517908299999931 3.279545248346949e-08 tensor(3.6335e-08, device='cuda:0')\n",
      "89 3.5052489000000833 3.2703616341223096e-08 tensor(3.3650e-08, device='cuda:0')\n",
      "90 3.492547800000011 3.247820578167193e-08 tensor(3.2850e-08, device='cuda:0')\n",
      "91 3.496456100000046 3.111801277100312e-08 tensor(3.4890e-08, device='cuda:0')\n",
      "92 3.492715999999973 3.131541393486259e-08 tensor(3.1629e-08, device='cuda:0')\n",
      "93 3.5003388999999743 3.1590205423981385e-08 tensor(3.3249e-08, device='cuda:0')\n",
      "94 3.5141886000000113 3.480690531887376e-08 tensor(3.6263e-08, device='cuda:0')\n",
      "95 3.571255600000086 3.3804855775088074e-08 tensor(3.7841e-08, device='cuda:0')\n",
      "96 3.541815100000008 3.1546748715527426e-08 tensor(3.5135e-08, device='cuda:0')\n",
      "97 3.495693000000074 3.333071742872562e-08 tensor(3.7745e-08, device='cuda:0')\n",
      "98 3.5016616999999997 3.1225043528593234e-08 tensor(3.4789e-08, device='cuda:0')\n",
      "99 3.4988617000000204 3.023503697363594e-08 tensor(3.4281e-08, device='cuda:0')\n"
     ]
    }
   ],
   "source": [
    "# myloss = utilities3.LpLoss(size_average=False)\n",
    "y_normalizer.cuda()\n",
    "for ep in range(100):\n",
    "    model.train()\n",
    "    t1 = default_timer()\n",
    "    train_mse = 0\n",
    "    for x, y in train_loader:\n",
    "        x, y = x.cuda(), y.cuda()\n",
    "\n",
    "        optimizer.zero_grad()\n",
    "        \n",
    "        out = model(x)\n",
    "        out = y_normalizer.decode(out)\n",
    "        y = y_normalizer.decode(y)\n",
    "        loss = F.mse_loss(model(x).view(-1), y.view(-1), reduction='mean')\n",
    "#         loss = myloss(out.view(batch_size,-1), y.view(batch_size,-1))\n",
    "        loss.backward()\n",
    "\n",
    "\n",
    "        optimizer.step()\n",
    "        train_mse += loss.item()\n",
    "\n",
    "\n",
    "    model.eval()\n",
    "    abs_err = 0.0\n",
    "    rel_err = 0.0\n",
    "    with torch.no_grad():\n",
    "        for x, y in test_loader:\n",
    "            x, y = x.cuda(), y.cuda()\n",
    "\n",
    "            out = model(x)\n",
    "            out = y_normalizer.decode(model(x))\n",
    "            rel_err+= F.mse_loss(model(x).view(-1), y.view(-1), reduction='mean')\n",
    "#             rel_err += myloss(out.view(batch_size,-1), y.view(batch_size,-1)).item()\n",
    "\n",
    "    train_mse/= ntrain\n",
    "    abs_err /= ntest\n",
    "    rel_err /= ntest\n",
    "\n",
    "    t2 = default_timer()\n",
    "    print(ep, t2-t1, train_mse, rel_err)"
   ]
  },
  {
   "cell_type": "code",
   "execution_count": 17,
   "metadata": {},
   "outputs": [],
   "source": [
    "pred = torch.zeros(y_test.shape)\n",
    "index = 0\n",
    "test_loader = torch.utils.data.DataLoader(torch.utils.data.TensorDataset(x_test, y_test), batch_size=1, shuffle=False)\n",
    "with torch.no_grad():\n",
    "    for x, y in test_loader:\n",
    "        test_l2 = 0\n",
    "        x, y = x.cuda(), y.cuda()\n",
    "\n",
    "        out = model(x)\n",
    "        out = y_normalizer.decode(model(x))\n",
    "        pred[index] = out\n",
    "\n",
    "#         test_l2 += myloss(out.view(1, -1), y.view(1, -1)).item()\n",
    "#         print(index, test_l2)\n",
    "        index = index + 1"
   ]
  },
  {
   "cell_type": "code",
   "execution_count": 18,
   "metadata": {},
   "outputs": [
    {
     "name": "stdout",
     "output_type": "stream",
     "text": [
      "The shape of predictions is torch.Size([100, 85, 85]) and the shape of ground truth is torch.Size([100, 85, 85])\n"
     ]
    }
   ],
   "source": [
    "print(f'The shape of predictions is {pred.shape} and the shape of ground truth is {y_test.shape}')"
   ]
  },
  {
   "cell_type": "code",
   "execution_count": null,
   "metadata": {},
   "outputs": [],
   "source": [
    "plt.plot(pred[:,8191],'r-',label='Predictions')\n",
    "plt.plot(y_test[:,8191],'b--',label='Ground Truth')\n",
    "plt.xlabel('x')\n",
    "plt.ylabel('f(x)')\n",
    "plt.title('Actual vs Predicted')\n",
    "plt.legend(loc='lower left')\n",
    "plt.savefig('Output_burgers')\n",
    "plt.show()"
   ]
  },
  {
   "cell_type": "code",
   "execution_count": 31,
   "metadata": {},
   "outputs": [
    {
     "data": {
      "text/plain": [
       "tensor([1.6087e-06, 1.2269e-05, 1.9555e-05, 2.5308e-05, 3.0008e-05, 3.3872e-05,\n",
       "        3.7016e-05, 3.9504e-05, 4.1373e-05, 4.2652e-05, 4.3411e-05, 4.3909e-05,\n",
       "        4.5266e-05, 5.0119e-05, 4.3072e-05, 3.8536e-05, 3.7721e-05, 3.7843e-05,\n",
       "        3.8339e-05, 3.9015e-05, 3.9777e-05, 4.0575e-05, 4.1381e-05, 4.2185e-05,\n",
       "        4.2983e-05, 4.3780e-05, 4.4582e-05, 4.5400e-05, 4.6243e-05, 4.7122e-05,\n",
       "        4.8051e-05, 4.9043e-05, 5.0119e-05, 5.1300e-05, 5.2615e-05, 5.4100e-05,\n",
       "        5.5800e-05, 5.7756e-05, 5.9982e-05, 6.2376e-05, 6.4543e-05, 6.5995e-05,\n",
       "        6.9049e-05, 8.1396e-05, 9.0850e-05, 9.5755e-05, 9.7859e-05, 9.8579e-05,\n",
       "        9.8793e-05, 9.8969e-05, 9.9219e-05, 9.9425e-05, 9.9382e-05, 9.8905e-05,\n",
       "        9.7909e-05, 9.6446e-05, 9.4669e-05, 9.2754e-05, 9.0836e-05, 8.8987e-05,\n",
       "        8.7224e-05, 8.5530e-05, 8.3871e-05, 8.2208e-05, 8.0504e-05, 7.8724e-05,\n",
       "        7.6841e-05, 7.4830e-05, 7.2672e-05, 7.0350e-05, 6.7849e-05, 6.5162e-05,\n",
       "        6.2282e-05, 5.9211e-05, 5.5957e-05, 5.2531e-05, 4.8941e-05, 4.5180e-05,\n",
       "        4.1205e-05, 3.6931e-05, 3.2218e-05, 2.6863e-05, 2.0566e-05, 1.2789e-05,\n",
       "        1.6558e-06])"
      ]
     },
     "execution_count": 31,
     "metadata": {},
     "output_type": "execute_result"
    }
   ],
   "source": [
    "y_test[1,:,:][0]"
   ]
  },
  {
   "cell_type": "code",
   "execution_count": 32,
   "metadata": {},
   "outputs": [
    {
     "data": {
      "text/plain": [
       "tensor([1.1075e-06, 8.7406e-06, 1.4247e-05, 1.8911e-05, 2.2996e-05, 2.6572e-05,\n",
       "        2.9933e-05, 3.2872e-05, 3.5725e-05, 3.8218e-05, 4.0377e-05, 4.2485e-05,\n",
       "        4.4781e-05, 4.6690e-05, 4.8498e-05, 5.0141e-05, 5.1846e-05, 5.3217e-05,\n",
       "        5.4570e-05, 5.5932e-05, 5.7059e-05, 5.8264e-05, 5.9455e-05, 6.0338e-05,\n",
       "        6.0984e-05, 6.2080e-05, 6.2882e-05, 6.3295e-05, 6.4219e-05, 6.4831e-05,\n",
       "        6.5494e-05, 6.5813e-05, 6.6551e-05, 6.6721e-05, 6.7088e-05, 6.7924e-05,\n",
       "        6.8315e-05, 6.8534e-05, 6.8606e-05, 6.8980e-05, 6.9621e-05, 6.9188e-05,\n",
       "        6.9341e-05, 6.8809e-05, 6.9015e-05, 6.9018e-05, 6.8498e-05, 6.8497e-05,\n",
       "        6.8236e-05, 6.7579e-05, 6.7337e-05, 6.6990e-05, 6.6517e-05, 6.6202e-05,\n",
       "        6.5634e-05, 6.4851e-05, 6.3790e-05, 6.3587e-05, 6.2359e-05, 6.1619e-05,\n",
       "        6.0580e-05, 5.9985e-05, 5.8962e-05, 5.8229e-05, 5.6998e-05, 5.5662e-05,\n",
       "        5.4376e-05, 5.2895e-05, 5.1581e-05, 5.0176e-05, 4.8357e-05, 4.6492e-05,\n",
       "        4.4729e-05, 4.2586e-05, 4.0240e-05, 3.8013e-05, 3.5521e-05, 3.2691e-05,\n",
       "        2.9589e-05, 2.6426e-05, 2.2855e-05, 1.8750e-05, 1.4138e-05, 8.6330e-06,\n",
       "        1.0964e-06])"
      ]
     },
     "execution_count": 32,
     "metadata": {},
     "output_type": "execute_result"
    }
   ],
   "source": [
    "pred[1,:,:][0]"
   ]
  },
  {
   "cell_type": "code",
   "execution_count": 21,
   "metadata": {},
   "outputs": [
    {
     "data": {
      "text/plain": [
       "tensor(3.0357e-06)"
      ]
     },
     "execution_count": 21,
     "metadata": {},
     "output_type": "execute_result"
    }
   ],
   "source": [
    "F.mse_loss(pred,y_test)"
   ]
  },
  {
   "cell_type": "code",
   "execution_count": 34,
   "metadata": {},
   "outputs": [
    {
     "data": {
      "text/plain": [
       "<matplotlib.image.AxesImage at 0x259f39ffc48>"
      ]
     },
     "execution_count": 34,
     "metadata": {},
     "output_type": "execute_result"
    },
    {
     "data": {
      "image/png": "[encoded data removed]",
      "text/plain": [
       "<Figure size 432x288 with 1 Axes>"
      ]
     },
     "metadata": {
      "needs_background": "light"
     },
     "output_type": "display_data"
    }
   ],
   "source": [
    "plt.imshow(y_test[99,:,:])"
   ]
  },
  {
   "cell_type": "code",
   "execution_count": 38,
   "metadata": {},
   "outputs": [
    {
     "data": {
      "text/plain": [
       "<matplotlib.image.AxesImage at 0x259f95b72c8>"
      ]
     },
     "execution_count": 38,
     "metadata": {},
     "output_type": "execute_result"
    },
    {
     "data": {
      "image/png": "[encoded data removed]",
      "text/plain": [
       "<Figure size 432x288 with 1 Axes>"
      ]
     },
     "metadata": {
      "needs_background": "light"
     },
     "output_type": "display_data"
    }
   ],
   "source": [
    "plt.imshow(pred[3,:,:])"
   ]
  },
  {
   "cell_type": "code",
   "execution_count": null,
   "metadata": {},
   "outputs": [],
   "source": []
  },
  {
   "cell_type": "code",
   "execution_count": null,
   "metadata": {},
   "outputs": [],
   "source": []
  },
  {
   "cell_type": "code",
   "execution_count": null,
   "metadata": {},
   "outputs": [],
   "source": []
  },
  {
   "cell_type": "code",
   "execution_count": null,
   "metadata": {},
   "outputs": [],
   "source": []
  },
  {
   "cell_type": "code",
   "execution_count": null,
   "metadata": {},
   "outputs": [],
   "source": []
  }
 ],
 "metadata": {
  "kernelspec": {
   "display_name": "Python 3",
   "language": "python",
   "name": "python3"
  },
  "language_info": {
   "codemirror_mode": {
    "name": "ipython",
    "version": 3
   },
   "file_extension": ".py",
   "mimetype": "text/x-python",
   "name": "python",
   "nbconvert_exporter": "python",
   "pygments_lexer": "ipython3",
   "version": "3.7.7"
  }
 },
 "nbformat": 4,
 "nbformat_minor": 4
}
