{
 "cells": [
  {
   "source": [
    "## Introduction\n",
    "\n",
    "The notebook calculates the partial differential equation of 1st order. For this case, Burgers Equation is being utilized. \n",
    "\n",
    "The implementation is done in PyTorch as it provides ease in creating the graph of the network. Furthermore, the implementation is based on the paper \"Fourier Neural Operator for Parametric Partial Differential Equation\" [link] and the code is mostly taken from the repository that the authors have released. The github link to the orginal repository is . Whereas, the link to our work is ."
   ],
   "cell_type": "markdown",
   "metadata": {}
  },
  {
   "source": [
    "## Libraries \n",
    "\n",
    "The following cell import all the necessary libraries required to carry out the task. The utilities are added into the python script of utilities.py and it is being called in the following cell. "
   ],
   "cell_type": "markdown",
   "metadata": {}
  },
  {
   "cell_type": "code",
   "execution_count": 1,
   "metadata": {},
   "outputs": [],
   "source": [
    "import importlib\n",
    "import utilities\n",
    "importlib.reload(utilities)\n",
    "import numpy as np\n",
    "import torch\n",
    "import torch.nn as nn\n",
    "import torch.nn.functional as F\n",
    "from torch.nn.parameter import Parameter\n",
    "import matplotlib.pyplot as plt\n",
    "\n",
    "import operator\n",
    "from functools import reduce\n",
    "from functools import partial\n",
    "from timeit import default_timer"
   ]
  },
  {
   "source": [
    "## Prelimaries \n",
    "\n",
    "The following cell set some prelimaries that will be used throughout the notebook. The description of the variables are mentioned infront of them for the ease of the user. "
   ],
   "cell_type": "markdown",
   "metadata": {}
  },
  {
   "cell_type": "code",
   "execution_count": 1,
   "metadata": {},
   "outputs": [],
   "source": [
    "ntrain = 1000 # Number of training examples\n",
    "ntest = 100 # Number of testing examples\n",
    "\n",
    "sub = 1 #subsampling rate\n",
    "h = 2**13 // sub\n",
    "s = h \n",
    "\n",
    "batch_size = 20\n",
    "learning_rate = 0.001\n",
    "\n",
    "epochs = 10\n",
    "step_size = 100 # steps set for LR scheduler\n",
    "gamma = 0.5 # parameter set for LR scheduler\n",
    "\n",
    "modes = 12 # modes for fourier transform\n",
    "width = 32 # number of nodes/filters"
   ]
  },
  {
   "source": [
    "## Data Retrival \n",
    "\n",
    "The data is saved in a MATLAB file and that is being retrived using the MatReader function developed in the utilities script."
   ],
   "cell_type": "markdown",
   "metadata": {}
  },
  {
   "cell_type": "code",
   "execution_count": 3,
   "metadata": {},
   "outputs": [],
   "source": [
    "dataloader = utilities.MatReader('data/burgers_data_R10.mat')\n",
    "x_data = dataloader.read_field('a')[:,::sub]\n",
    "y_data = dataloader.read_field('u')[:,::sub]"
   ]
  },
  {
   "cell_type": "code",
   "execution_count": 4,
   "metadata": {},
   "outputs": [
    {
     "name": "stdout",
     "output_type": "stream",
     "text": [
      "The shape of x is torch.Size([2048, 8192]) and the shape of y is torch.Size([2048, 8192])\n"
     ]
    }
   ],
   "source": [
    "print(f'The shape of x is {x_data.shape} and the shape of y is {y_data.shape}')"
   ]
  },
  {
   "source": [
    "Once the data is being retrived the data is being split into the training and testing sets. The parameter for training and testing size is being declared in the prelimaries section"
   ],
   "cell_type": "markdown",
   "metadata": {}
  },
  {
   "cell_type": "code",
   "execution_count": 5,
   "metadata": {},
   "outputs": [],
   "source": [
    "x_train = x_data[:ntrain,:]\n",
    "y_train = y_data[:ntrain,:]\n",
    "x_test = x_data[-ntest:,:]\n",
    "y_test = y_data[-ntest:,:]"
   ]
  },
  {
   "cell_type": "code",
   "execution_count": 6,
   "metadata": {},
   "outputs": [
    {
     "name": "stdout",
     "output_type": "stream",
     "text": [
      "The shape of x_train is torch.Size([1000, 8192]) and the shape of y_train is torch.Size([1000, 8192])\n",
      "The shape of x_test is torch.Size([100, 8192]) and the shape of y_test is torch.Size([100, 8192])\n"
     ]
    }
   ],
   "source": [
    "print(f'The shape of x_train is {x_train.shape} and the shape of y_train is {y_train.shape}')\n",
    "print(f'The shape of x_test is {x_test.shape} and the shape of y_test is {y_test.shape}')"
   ]
  },
  {
   "source": [
    "The x_train and x_test is being combined with the grid of the of values of the indices"
   ],
   "cell_type": "markdown",
   "metadata": {}
  },
  {
   "source": [
    "grid=np.linspace(0, 2*np.pi, s).reshape(1, s, 1)\n",
    "grid = torch.tensor(grid,dtype=torch.float)\n",
    "\n",
    "x_train=torch.cat([x_train.reshape(ntrain,s,1), grid.repeat(ntrain,1,1)], dim=2)\n",
    "x_test = torch.cat([x_test.reshape(ntest,s,1), grid.repeat(ntest,1,1)], dim=2)\n",
    "\n",
    "print(f'The shape of x_train is {x_train.shape} and the shape of y_train is {y_train.shape}')\n",
    "print(f'The shape of x_test is {x_test.shape} and the shape of y_test is {y_test.shape}')"
   ],
   "cell_type": "code",
   "metadata": {},
   "execution_count": null,
   "outputs": []
  },
  {
   "source": [
    "# Model\n",
    "\n",
    "The following cell declares the model that is being used. The model is developed using 3 classes. The main class is Net1d which calls the second class which is SimpleBlock1d and that calls SpectralConv1d class.\n",
    "\n",
    "The following image is the illustration of the model that is being created. \n",
    "\n",
    "The upper region (Section 1) is implemented in SpectralConv1d. The class first performs fourier transform on the the signal and then after taking the specified modes, returns to the original form. \n",
    "\n",
    "The lower region (Section 2) is not implemented separately as it is just a weight matrix. However, the combination of the output after the fourier neural operation and weight matrix is done in the class of the SimpleBlock1d. \n",
    "\n",
    "The class Net1d just combines everything together. "
   ],
   "cell_type": "markdown",
   "metadata": {}
  },
  {
   "cell_type": "code",
   "execution_count": 8,
   "metadata": {},
   "outputs": [],
   "source": [
    "class SpectralConv1d(nn.Module):\n",
    "    def __init__(self, in_channels, out_channels, modes1):\n",
    "        super(SpectralConv1d, self).__init__()\n",
    "\n",
    "        \"\"\"\n",
    "        1D Fourier layer. It does FFT, linear transform, and Inverse FFT.    \n",
    "        \"\"\"\n",
    "\n",
    "        self.in_channels = in_channels\n",
    "        self.out_channels = out_channels\n",
    "        self.modes1 = modes1  #Number of Fourier modes to multiply, at most floor(N/2) + 1\n",
    "\n",
    "        self.scale = (1 / (in_channels*out_channels))\n",
    "        self.weights1 = nn.Parameter(self.scale * torch.rand(in_channels, out_channels, self.modes1, 2))\n",
    "\n",
    "    def forward(self, x):\n",
    "        batchsize = x.shape[0]\n",
    "        #Compute Fourier coeffcients up to factor of e^(- something constant)\n",
    "        x_ft = torch.rfft(x, 1, normalized=True, onesided=True)\n",
    "\n",
    "        # Multiply relevant Fourier modes\n",
    "        out_ft = torch.zeros(batchsize, self.in_channels, x.size(-1)//2 + 1, 2, device=x.device)\n",
    "        out_ft[:, :, :self.modes1] = compl_mul1d(x_ft[:, :, :self.modes1], self.weights1)\n",
    "\n",
    "        #Return to physical space\n",
    "        x = torch.irfft(out_ft, 1, normalized=True, onesided=True, signal_sizes=(x.size(-1), ))\n",
    "        return x\n",
    "\n",
    "class SimpleBlock1d(nn.Module):\n",
    "    def __init__(self, modes, width):\n",
    "        super(SimpleBlock1d, self).__init__()\n",
    "\n",
    "        \"\"\"\n",
    "        The overall network. It contains 4 layers of the Fourier layer.\n",
    "        1. Lift the input to the desire channel dimension by self.fc0 .\n",
    "        2. 4 layers of the integral operators u' = (W + K)(u).\n",
    "            W defined by self.w; K defined by self.conv .\n",
    "        3. Project from the channel space to the output space by self.fc1 and self.fc2 .\n",
    "        \n",
    "        input: the solution of the initial condition and location (a(x), x)\n",
    "        input shape: (batchsize, x=s, c=2)\n",
    "        output: the solution of a later timestep\n",
    "        output shape: (batchsize, x=s, c=1)\n",
    "        \"\"\"\n",
    "\n",
    "        self.modes1 = modes\n",
    "        self.width = width\n",
    "        self.fc0 = nn.Linear(2, self.width) # input channel is 2: (a(x), x)\n",
    "\n",
    "        self.conv0 = SpectralConv1d(self.width, self.width, self.modes1)\n",
    "        self.conv1 = SpectralConv1d(self.width, self.width, self.modes1)\n",
    "        self.conv2 = SpectralConv1d(self.width, self.width, self.modes1)\n",
    "        self.conv3 = SpectralConv1d(self.width, self.width, self.modes1)\n",
    "#         self.conv4 = SpectralConv1d(self.width, self.width, self.modes1)\n",
    "        self.w0 = nn.Conv1d(self.width, self.width, 1)\n",
    "        self.w1 = nn.Conv1d(self.width, self.width, 1)\n",
    "        self.w2 = nn.Conv1d(self.width, self.width, 1)\n",
    "        self.w3 = nn.Conv1d(self.width, self.width, 1)\n",
    "#         self.w4 = nn.Conv1d(self.width, self.width, 1)\n",
    "        self.bn0 = torch.nn.BatchNorm1d(self.width)\n",
    "        self.bn1 = torch.nn.BatchNorm1d(self.width)\n",
    "        self.bn2 = torch.nn.BatchNorm1d(self.width)\n",
    "        self.bn3 = torch.nn.BatchNorm1d(self.width)\n",
    "#         self.bn4 = torch.nn.BatchNorm1d(self.width)\n",
    "\n",
    "\n",
    "        self.fc1 = nn.Linear(self.width, 128)\n",
    "        self.fc2 = nn.Linear(128, 1)\n",
    "\n",
    "    def forward(self, x):\n",
    "        x = self.fc0(x)\n",
    "        x = x.permute(0, 2, 1)\n",
    "        \n",
    "        x1 = self.conv0(x)\n",
    "        x2 = self.w0(x)\n",
    "        x = self.bn0(x1 + x2)\n",
    "        x = F.relu(x)\n",
    "        \n",
    "        x1 = self.conv1(x)\n",
    "        x2 = self.w1(x)\n",
    "        x = self.bn1(x1 + x2)\n",
    "        x = F.relu(x)\n",
    "        \n",
    "        x1 = self.conv2(x)\n",
    "        x2 = self.w2(x)\n",
    "        x = self.bn2(x1 + x2)\n",
    "        x = F.relu(x)\n",
    "        \n",
    "        x1 = self.conv3(x)\n",
    "        x2 = self.w3(x)\n",
    "        x = self.bn3(x1 + x2)\n",
    "#         x = F.relu(x)\n",
    "        \n",
    "#         x1 = self.conv4(x)\n",
    "#         x2 = self.w4(x)\n",
    "#         x = self.bn4(x1 + x2)\n",
    "#         x = F.relu(x)\n",
    "        \n",
    "\n",
    "        x = x.permute(0, 2, 1)\n",
    "        x = self.fc1(x)\n",
    "        x = F.relu(x)\n",
    "        x = self.fc2(x)\n",
    "        return x\n",
    "\n",
    "class Net1d(nn.Module):\n",
    "    def __init__(self, modes, width):\n",
    "        super(Net1d, self).__init__()\n",
    "\n",
    "        \"\"\"\n",
    "        A wrapper function\n",
    "        \"\"\"\n",
    "\n",
    "        self.conv1 = SimpleBlock1d(modes, width)\n",
    "        self.dense1 = nn.Linear(8192,8192)\n",
    "\n",
    "\n",
    "    def forward(self, x):\n",
    "        x = self.conv1(x)\n",
    "#         x = x.squeeze()\n",
    "        return x.squeeze()\n",
    "\n",
    "    def count_params(self):\n",
    "        c = 0\n",
    "        for p in self.parameters():\n",
    "            c += reduce(operator.mul, list(p.size()))\n",
    "\n",
    "        return c\n",
    "    \n",
    "def compl_mul1d(a, b):\n",
    "    # (batch, in_channel, x ), (in_channel, out_channel, x) -> (batch, out_channel, x)\n",
    "    op = partial(torch.einsum, \"bix,iox->box\")\n",
    "    return torch.stack([\n",
    "        op(a[..., 0], b[..., 0]) - op(a[..., 1], b[..., 1]),\n",
    "        op(a[..., 1], b[..., 0]) + op(a[..., 0], b[..., 1])\n",
    "    ], dim=-1)"
   ]
  },
  {
   "source": [
    "The following cell creates the object train_loader and test_loader that can be used for the training and testing purposes."
   ],
   "cell_type": "markdown",
   "metadata": {}
  },
  {
   "cell_type": "code",
   "execution_count": 9,
   "metadata": {},
   "outputs": [],
   "source": [
    "train_loader = torch.utils.data.DataLoader(torch.utils.data.TensorDataset(x_train, y_train), batch_size=batch_size, shuffle=True)\n",
    "test_loader = torch.utils.data.DataLoader(torch.utils.data.TensorDataset(x_test, y_test), batch_size=batch_size, shuffle=False)"
   ]
  },
  {
   "cell_type": "code",
   "execution_count": 10,
   "metadata": {},
   "outputs": [],
   "source": [
    "model = Net1d(modes, width).cuda()"
   ]
  },
  {
   "cell_type": "code",
   "execution_count": 11,
   "metadata": {},
   "outputs": [],
   "source": [
    "optimizer = torch.optim.Adam(model.parameters(), lr=learning_rate, weight_decay=1e-4)\n",
    "scheduler = torch.optim.lr_scheduler.StepLR(optimizer, step_size=step_size, gamma=gamma)"
   ]
  },
  {
   "source": [
    "### Training of the Model\n",
    "\n",
    "The training of the model is straightforward. The only thing to notice that for the loss function, Lp Loss is being used. However, MSE can also be used as it results in the similar outlook. The implementation of the Lp Loss can be found in the utilities script."
   ],
   "cell_type": "markdown",
   "metadata": {}
  },
  {
   "cell_type": "code",
   "execution_count": 12,
   "metadata": {},
   "outputs": [
    {
     "name": "stderr",
     "output_type": "stream",
     "text": [
      "C:\\Users\\Saad.LAKES\\Anaconda3\\lib\\site-packages\\ipykernel_launcher.py:19: UserWarning: The function torch.rfft is deprecated and will be removed in a future PyTorch release. Use the new torch.fft module functions, instead, by importing torch.fft and calling torch.fft.fft or torch.fft.rfft. (Triggered internally at  ..\\aten\\src\\ATen\\native\\SpectralOps.cpp:590.)\n",
      "C:\\Users\\Saad.LAKES\\Anaconda3\\lib\\site-packages\\ipykernel_launcher.py:26: UserWarning: The function torch.irfft is deprecated and will be removed in a future PyTorch release. Use the new torch.fft module functions, instead, by importing torch.fft and calling torch.fft.ifft or torch.fft.irfft. (Triggered internally at  ..\\aten\\src\\ATen\\native\\SpectralOps.cpp:602.)\n"
     ]
    },
    {
     "name": "stdout",
     "output_type": "stream",
     "text": [
      "0 3.286784599999997 0.025036237705498933 0.33676570177078247 0.18355728149414063\n",
      "1 1.799664700000001 0.009277029298245906 0.19901005935668944 0.12222155809402466\n",
      "2 1.8658199999999994 0.007231059849727899 0.17692686605453492 0.11760056257247925\n",
      "3 1.860438099999996 0.005431048516184092 0.14777561378479004 0.09801856398582459\n",
      "4 1.792230999999994 0.006300721664447337 0.15911061358451845 0.09128805160522462\n",
      "5 1.7371787999999952 0.007105820111464709 0.16158499658107758 0.0660643494129181\n",
      "6 1.7435553999999982 0.0035618344694375993 0.11152885270118713 0.09353924632072448\n",
      "7 1.7437170000000037 0.0039217794762225824 0.11666908067464829 0.07848817348480225\n",
      "8 1.7489525000000015 0.005196466578636319 0.13838024616241454 0.07265140056610107\n",
      "9 1.738608400000004 0.0034170761913992465 0.11238515889644622 0.09314745664596558\n"
     ]
    }
   ],
   "source": [
    "myloss = utilities.LpLoss(size_average=False)\n",
    "for ep in range(epochs):\n",
    "    model.train()\n",
    "    t1 = default_timer()\n",
    "    train_mse = 0\n",
    "    train_l2 = 0\n",
    "    for x, y in train_loader:\n",
    "        x, y = x.cuda(), y.cuda()\n",
    "\n",
    "        optimizer.zero_grad()\n",
    "        out = model(x)\n",
    "#         print(out.shape)\n",
    "        mse = F.mse_loss(out, y, reduction='mean')\n",
    "        # mse.backward()\n",
    "        l2 = myloss(out.view(batch_size, -1), y.view(batch_size, -1))\n",
    "        l2.backward() # use the l2 relative loss\n",
    "\n",
    "        optimizer.step()\n",
    "        train_mse += mse.item()\n",
    "        train_l2 += l2.item()\n",
    "\n",
    "    scheduler.step()\n",
    "    model.eval()\n",
    "    test_l2 = 0.0\n",
    "    with torch.no_grad():\n",
    "        for x, y in test_loader:\n",
    "            x, y = x.cuda(), y.cuda()\n",
    "\n",
    "            out = model(x)\n",
    "            test_l2 += myloss(out.view(batch_size, -1), y.view(batch_size, -1)).item()\n",
    "\n",
    "    train_mse /= len(train_loader)\n",
    "    train_l2 /= ntrain\n",
    "    test_l2 /= ntest\n",
    "\n",
    "    t2 = default_timer()\n",
    "    print(ep, t2-t1, train_mse, train_l2, test_l2)"
   ]
  },
  {
   "source": [
    "### Prediction Phase\n",
    "\n",
    "The following cell does the testing on the testing data. "
   ],
   "cell_type": "markdown",
   "metadata": {}
  },
  {
   "cell_type": "code",
   "execution_count": 13,
   "metadata": {
    "scrolled": true
   },
   "outputs": [],
   "source": [
    "pred = torch.zeros(y_test.shape)\n",
    "index = 0\n",
    "test_loader = torch.utils.data.DataLoader(torch.utils.data.TensorDataset(x_test, y_test), batch_size=1, shuffle=False)\n",
    "with torch.no_grad():\n",
    "    for x, y in test_loader:\n",
    "        test_l2 = 0\n",
    "        x, y = x.cuda(), y.cuda()\n",
    "\n",
    "        out = model(x)\n",
    "        pred[index] = out\n",
    "\n",
    "        test_l2 += myloss(out.view(1, -1), y.view(1, -1)).item()\n",
    "#         print(index, test_l2)\n",
    "        index = index + 1"
   ]
  },
  {
   "cell_type": "code",
   "execution_count": 14,
   "metadata": {},
   "outputs": [
    {
     "name": "stdout",
     "output_type": "stream",
     "text": [
      "The shape of predictions is torch.Size([100, 8192]) and the shape of ground truth is torch.Size([100, 8192])\n"
     ]
    }
   ],
   "source": [
    "print(f'The shape of predictions is {pred.shape} and the shape of ground truth is {y_test.shape}')"
   ]
  },
  {
   "source": [
    "## Visualization\n",
    "\n",
    "Once the prediction is being performed it is being plotted against the actual values to visualize the results. The following cell does that and after that MSE is also calculated which is found to be close to zero which shows that the model is able to predict the actual values with great precision."
   ],
   "cell_type": "markdown",
   "metadata": {}
  },
  {
   "cell_type": "code",
   "execution_count": 25,
   "metadata": {},
   "outputs": [
    {
     "data": {
      "image/png": "[encoded data removed]",
      "text/plain": [
       "<Figure size 432x288 with 1 Axes>"
      ]
     },
     "metadata": {
      "needs_background": "light"
     },
     "output_type": "display_data"
    }
   ],
   "source": [
    "plt.plot(pred[:,8191],'r-',label='Predictions')\n",
    "plt.plot(y_test[:,8191],'b--',label='Ground Truth')\n",
    "plt.xlabel('x')\n",
    "plt.ylabel('f(x)')\n",
    "plt.title('Actual vs Predicted')\n",
    "plt.legend(loc='lower left')\n",
    "plt.savefig('Output_burgers')\n",
    "plt.show()"
   ]
  },
  {
   "cell_type": "code",
   "execution_count": 16,
   "metadata": {},
   "outputs": [
    {
     "data": {
      "text/plain": [
       "tensor(0.0020)"
      ]
     },
     "execution_count": 16,
     "metadata": {},
     "output_type": "execute_result"
    }
   ],
   "source": [
    "F.mse_loss(pred,y_test)"
   ]
  },
  {
   "cell_type": "code",
   "execution_count": null,
   "metadata": {},
   "outputs": [],
   "source": []
  }
 ],
 "metadata": {
  "kernelspec": {
   "display_name": "Python 3",
   "language": "python",
   "name": "python3"
  },
  "language_info": {
   "codemirror_mode": {
    "name": "ipython",
    "version": 3
   },
   "file_extension": ".py",
   "mimetype": "text/x-python",
   "name": "python",
   "nbconvert_exporter": "python",
   "pygments_lexer": "ipython3",
   "version": "3.9.1-final"
  }
 },
 "nbformat": 4,
 "nbformat_minor": 4
}