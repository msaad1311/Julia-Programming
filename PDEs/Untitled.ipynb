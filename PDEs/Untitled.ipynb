{
 "cells": [
  {
   "cell_type": "code",
   "execution_count": 1,
   "metadata": {},
   "outputs": [],
   "source": [
    "import numpy      as np\n",
    "import matplotlib.pyplot as plt\n",
    "import tensorflow as tf"
   ]
  },
  {
   "cell_type": "code",
   "execution_count": 37,
   "metadata": {},
   "outputs": [],
   "source": [
    "inputs = tf.keras.Input(name='inputs',shape=(1),dtype=tf.dtypes.float32)\n",
    "hidden = tf.keras.layers.Dense(10,activation=tf.nn.sigmoid,name='hidden')\n",
    "output = tf.keras.layers.Dense(1,activation=None,name='output')\n",
    "model  = tf.keras.Sequential([inputs, hidden, output ])"
   ]
  },
  {
   "cell_type": "code",
   "execution_count": 38,
   "metadata": {},
   "outputs": [
    {
     "name": "stdout",
     "output_type": "stream",
     "text": [
      "Model: \"sequential\"\n",
      "_________________________________________________________________\n",
      "Layer (type)                 Output Shape              Param #   \n",
      "=================================================================\n",
      "hidden (Dense)               (None, 10)                20        \n",
      "_________________________________________________________________\n",
      "output (Dense)               (None, 1)                 11        \n",
      "=================================================================\n",
      "Total params: 31\n",
      "Trainable params: 31\n",
      "Non-trainable params: 0\n",
      "_________________________________________________________________\n"
     ]
    }
   ],
   "source": [
    "model.summary()"
   ]
  },
  {
   "cell_type": "code",
   "execution_count": 39,
   "metadata": {},
   "outputs": [
    {
     "name": "stdout",
     "output_type": "stream",
     "text": [
      "The shape of x_train is (100,)\n"
     ]
    }
   ],
   "source": [
    "x_train = np.linspace(0,2,100,endpoint=True)\n",
    "print(f\"The shape of x_train is {x_train.shape}\")"
   ]
  },
  {
   "cell_type": "code",
   "execution_count": 40,
   "metadata": {},
   "outputs": [
    {
     "name": "stdout",
     "output_type": "stream",
     "text": [
      "The shape of x_t is (100, 1)\n"
     ]
    }
   ],
   "source": [
    "x_t = np.zeros((len(x_train),1))\n",
    "print(f\"The shape of x_t is {x_t.shape}\")"
   ]
  },
  {
   "cell_type": "code",
   "execution_count": 42,
   "metadata": {},
   "outputs": [],
   "source": [
    "x_t[:,0]=x_train"
   ]
  },
  {
   "cell_type": "code",
   "execution_count": 46,
   "metadata": {},
   "outputs": [],
   "source": [
    "epochs = 50000\n",
    "Adam   = tf.keras.optimizers.Adam(1e-2)"
   ]
  },
  {
   "cell_type": "code",
   "execution_count": 47,
   "metadata": {},
   "outputs": [],
   "source": [
    "x = tf.constant(x_t,dtype=float)\n",
    "trainable_vars = model.trainable_variables"
   ]
  },
  {
   "cell_type": "code",
   "execution_count": 51,
   "metadata": {
    "scrolled": true
   },
   "outputs": [
    {
     "name": "stdout",
     "output_type": "stream",
     "text": [
      "WARNING:tensorflow:Calling GradientTape.gradient on a persistent tape inside its context is significantly less efficient than calling it outside the context (it causes the gradient ops to be recorded on the tape, leading to increased CPU and memory usage). Only call GradientTape.gradient inside the context if you actually want to trace the gradient in order to compute higher order derivatives.\n"
     ]
    }
   ],
   "source": [
    "losses = []\n",
    "for ix in range(100):\n",
    "    with tf.GradientTape(persistent=True) as tape:\n",
    "        tape.watch(x)\n",
    "        tape.watch(trainable_vars)\n",
    "        y = model(x,training=True)\n",
    "        dy_dx = tape.gradient(y,x)  \n",
    "        A = (1+3*x**2)/(1+x+x**3)\n",
    "        t_loss = (dy_dx + (x + A) * y - x**3 - 2*x - x**2*A)**2\n",
    "        loss  =  tf.reduce_mean(t_loss)+(y[0]-1)**2\n",
    "        tape.watch(loss)\n",
    "\n",
    "    gradients = tape.gradient(loss, trainable_vars)\n",
    "    Adam.apply_gradients(zip(gradients, trainable_vars))\n",
    "    losses.append(loss.numpy()[0])"
   ]
  },
  {
   "cell_type": "code",
   "execution_count": 54,
   "metadata": {},
   "outputs": [
    {
     "data": {
      "text/plain": [
       "(100,)"
      ]
     },
     "execution_count": 54,
     "metadata": {},
     "output_type": "execute_result"
    }
   ],
   "source": [
    "known = np.exp(-0.5*x_train**2)/(1+x_train+x_train**3)+x_train**2\n",
    "known.shape"
   ]
  },
  {
   "cell_type": "code",
   "execution_count": 58,
   "metadata": {},
   "outputs": [
    {
     "data": {
      "text/plain": [
       "(100, 1)"
      ]
     },
     "execution_count": 58,
     "metadata": {},
     "output_type": "execute_result"
    }
   ],
   "source": [
    "output = model(x_t).numpy()\n",
    "output.shape\n"
   ]
  },
  {
   "cell_type": "code",
   "execution_count": 71,
   "metadata": {
    "scrolled": true
   },
   "outputs": [
    {
     "data": {
      "image/png": "[encoded data removed]",
      "text/plain": [
       "<Figure size 432x288 with 1 Axes>"
      ]
     },
     "metadata": {
      "needs_background": "light"
     },
     "output_type": "display_data"
    }
   ],
   "source": [
    "plt.plot(x_train,known,'r:',label='Known Solution')\n",
    "plt.plot(x_train,output,'y-',label='NN Solution')\n",
    "plt.legend()\n",
    "plt.savefig('Results.png')\n",
    "plt.show()"
   ]
  },
  {
   "cell_type": "code",
   "execution_count": 72,
   "metadata": {},
   "outputs": [
    {
     "data": {
      "text/plain": [
       "8.301666026528607e-07"
      ]
     },
     "execution_count": 72,
     "metadata": {},
     "output_type": "execute_result"
    }
   ],
   "source": [
    "from sklearn.metrics import mean_squared_error as mse\n",
    "mse(known,output)"
   ]
  },
  {
   "cell_type": "markdown",
   "metadata": {},
   "source": [
    "## Second Order ODE"
   ]
  },
  {
   "cell_type": "code",
   "execution_count": 3,
   "metadata": {},
   "outputs": [
    {
     "name": "stdout",
     "output_type": "stream",
     "text": [
      "Model: \"sequential\"\n",
      "_________________________________________________________________\n",
      "Layer (type)                 Output Shape              Param #   \n",
      "=================================================================\n",
      "hidden (Dense)               (None, 32)                64        \n",
      "_________________________________________________________________\n",
      "hidden2 (Dense)              (None, 32)                1056      \n",
      "_________________________________________________________________\n",
      "output (Dense)               (None, 1)                 33        \n",
      "=================================================================\n",
      "Total params: 1,153\n",
      "Trainable params: 1,153\n",
      "Non-trainable params: 0\n",
      "_________________________________________________________________\n"
     ]
    }
   ],
   "source": [
    "inputs = tf.keras.Input(name='inputs',shape=(1),dtype=tf.dtypes.float32)\n",
    "hidden = tf.keras.layers.Dense(32,activation=tf.nn.sigmoid,name='hidden')\n",
    "hidden2 = tf.keras.layers.Dense(32,activation=tf.nn.sigmoid,name='hidden2')\n",
    "output = tf.keras.layers.Dense(1,activation=None,name='output')\n",
    "model_sec = tf.keras.Sequential([inputs, hidden,hidden2,output ])\n",
    "model_sec.summary()"
   ]
  },
  {
   "cell_type": "code",
   "execution_count": 4,
   "metadata": {},
   "outputs": [
    {
     "name": "stdout",
     "output_type": "stream",
     "text": [
      "The shape of x_train is (100,) and shape of x_t is (100, 1)\n"
     ]
    }
   ],
   "source": [
    "x_train = np.linspace(0,2,100,endpoint=True)\n",
    "x_t = x_train.copy().reshape(-1,1)\n",
    "print(f\"The shape of x_train is {x_train.shape} and shape of x_t is {x_t.shape}\")"
   ]
  },
  {
   "cell_type": "code",
   "execution_count": 48,
   "metadata": {},
   "outputs": [
    {
     "name": "stdout",
     "output_type": "stream",
     "text": [
      "WARNING:tensorflow:Calling GradientTape.gradient on a persistent tape inside its context is significantly less efficient than calling it outside the context (it causes the gradient ops to be recorded on the tape, leading to increased CPU and memory usage). Only call GradientTape.gradient inside the context if you actually want to trace the gradient in order to compute higher order derivatives.\n",
      "WARNING:tensorflow:Calling GradientTape.gradient on a persistent tape inside its context is significantly less efficient than calling it outside the context (it causes the gradient ops to be recorded on the tape, leading to increased CPU and memory usage). Only call GradientTape.gradient inside the context if you actually want to trace the gradient in order to compute higher order derivatives.\n"
     ]
    }
   ],
   "source": [
    "epochs = 5000\n",
    "Adam   = tf.keras.optimizers.Adam(1e-2)\n",
    "x = tf.constant(x_t,dtype=float)\n",
    "trainable_vars = model_sec.trainable_variables\n",
    "losses = []\n",
    "for ix in range(epochs):\n",
    "    with tf.GradientTape(persistent=True) as tape:\n",
    "        tape.watch(x)\n",
    "        tape.watch(trainable_vars)\n",
    "        y = model_sec(x,training=True)\n",
    "        dy_dx = tape.gradient(y,x)\n",
    "#         print(dy_dx.shape)\n",
    "        dy_dx2 = tape.gradient(dy_dx,x)\n",
    "        t_loss = (dy_dx2 -2 +6*x)**2\n",
    "        loss  =  tf.reduce_mean(t_loss)+(dy_dx[0]-4)**2 + (y[0]-1)**2\n",
    "        tape.watch(loss)\n",
    "#         break\n",
    "\n",
    "    gradients = tape.gradient(loss, trainable_vars)\n",
    "    Adam.apply_gradients(zip(gradients, trainable_vars))\n",
    "    losses.append(loss.numpy()[0])"
   ]
  },
  {
   "cell_type": "code",
   "execution_count": 24,
   "metadata": {},
   "outputs": [],
   "source": [
    "known = x_train**2 - x_train**3 + 4*x_train +1"
   ]
  },
  {
   "cell_type": "code",
   "execution_count": 49,
   "metadata": {},
   "outputs": [],
   "source": [
    "nn_out = model_sec.predict(x_train)"
   ]
  },
  {
   "cell_type": "code",
   "execution_count": 50,
   "metadata": {},
   "outputs": [
    {
     "data": {
      "text/plain": [
       "((100,), (100, 1))"
      ]
     },
     "execution_count": 50,
     "metadata": {},
     "output_type": "execute_result"
    }
   ],
   "source": [
    "known.shape,nn_out.shape"
   ]
  },
  {
   "cell_type": "code",
   "execution_count": 53,
   "metadata": {},
   "outputs": [
    {
     "data": {
      "image/png": "[encoded data removed]",
      "text/plain": [
       "<Figure size 432x288 with 1 Axes>"
      ]
     },
     "metadata": {
      "needs_background": "light"
     },
     "output_type": "display_data"
    }
   ],
   "source": [
    "plt.plot(x_train,known,'r:',label='Known Solution')\n",
    "plt.plot(x_train,nn_out,'y-',label='NN Solution')\n",
    "plt.legend()\n",
    "plt.savefig('Results_2ndODE.png')\n",
    "plt.show()"
   ]
  },
  {
   "cell_type": "markdown",
   "metadata": {},
   "source": [
    "## First Order ODE Problem"
   ]
  },
  {
   "cell_type": "code",
   "execution_count": 11,
   "metadata": {},
   "outputs": [
    {
     "name": "stdout",
     "output_type": "stream",
     "text": [
      "Model: \"sequential_1\"\n",
      "_________________________________________________________________\n",
      "Layer (type)                 Output Shape              Param #   \n",
      "=================================================================\n",
      "hidden (Dense)               (None, 32)                64        \n",
      "_________________________________________________________________\n",
      "hidden2 (Dense)              (None, 32)                1056      \n",
      "_________________________________________________________________\n",
      "hidden3 (Dense)              (None, 32)                1056      \n",
      "_________________________________________________________________\n",
      "output (Dense)               (None, 1)                 33        \n",
      "=================================================================\n",
      "Total params: 2,209\n",
      "Trainable params: 2,209\n",
      "Non-trainable params: 0\n",
      "_________________________________________________________________\n"
     ]
    }
   ],
   "source": [
    "inputs = tf.keras.Input(name='inputs',shape=(1),dtype=tf.dtypes.float32)\n",
    "hidden = tf.keras.layers.Dense(32,activation=tf.nn.sigmoid,name='hidden')\n",
    "hidden2 = tf.keras.layers.Dense(32,activation=tf.nn.sigmoid,name='hidden2')\n",
    "hidden3 = tf.keras.layers.Dense(32,activation=tf.nn.sigmoid,name='hidden3')\n",
    "output = tf.keras.layers.Dense(1,activation=None,name='output')\n",
    "model3 = tf.keras.Sequential([inputs, hidden,hidden2,hidden3,output ])\n",
    "model3.summary()"
   ]
  },
  {
   "cell_type": "code",
   "execution_count": 12,
   "metadata": {},
   "outputs": [
    {
     "name": "stdout",
     "output_type": "stream",
     "text": [
      "(100, 1)\n"
     ]
    }
   ],
   "source": [
    "t_train = np.linspace(0,1,100,endpoint=True)\n",
    "t = t_train.copy().reshape(-1,1)\n",
    "print(t.shape)"
   ]
  },
  {
   "cell_type": "code",
   "execution_count": 13,
   "metadata": {},
   "outputs": [
    {
     "name": "stdout",
     "output_type": "stream",
     "text": [
      "WARNING:tensorflow:Calling GradientTape.gradient on a persistent tape inside its context is significantly less efficient than calling it outside the context (it causes the gradient ops to be recorded on the tape, leading to increased CPU and memory usage). Only call GradientTape.gradient inside the context if you actually want to trace the gradient in order to compute higher order derivatives.\n"
     ]
    }
   ],
   "source": [
    "epochs = 5000\n",
    "Adam   = tf.keras.optimizers.Adam(1e-2)\n",
    "t1 = tf.constant(t,dtype=float)\n",
    "trainable_vars = model3.trainable_variables\n",
    "losses = []\n",
    "for ix in range(epochs):\n",
    "    with tf.GradientTape(persistent=True) as tape:\n",
    "        tape.watch(t1)\n",
    "        tape.watch(trainable_vars)\n",
    "        y = model3(t1,training=True)\n",
    "        dy_dt = tape.gradient(y,t1)\n",
    "        t_loss = (dy_dt - 2*y + 1)**2\n",
    "        loss  =  tf.reduce_mean(t_loss)+ (y[0]-1)**2\n",
    "        tape.watch(loss)\n",
    "#         break\n",
    "\n",
    "    gradients = tape.gradient(loss, trainable_vars)\n",
    "    Adam.apply_gradients(zip(gradients, trainable_vars))\n",
    "#     print(loss.numpy())\n",
    "    losses.append(loss.numpy())"
   ]
  },
  {
   "cell_type": "code",
   "execution_count": 14,
   "metadata": {},
   "outputs": [],
   "source": [
    "known = (np.exp(2*t_train)+1)/2"
   ]
  },
  {
   "cell_type": "code",
   "execution_count": 15,
   "metadata": {},
   "outputs": [],
   "source": [
    "nn_out = model3(t_train)"
   ]
  },
  {
   "cell_type": "code",
   "execution_count": 19,
   "metadata": {},
   "outputs": [
    {
     "data": {
      "image/png": "[encoded data removed]",
      "text/plain": [
       "<Figure size 432x288 with 1 Axes>"
      ]
     },
     "metadata": {
      "needs_background": "light"
     },
     "output_type": "display_data"
    }
   ],
   "source": [
    "plt.plot(t_train,known,'r:',label='Known Solution')\n",
    "plt.plot(t_train,nn_out,'y-',label='NN Solution')\n",
    "plt.legend()\n",
    "plt.savefig('Results_2ndODE.png')\n",
    "plt.show()"
   ]
  },
  {
   "cell_type": "code",
   "execution_count": 18,
   "metadata": {},
   "outputs": [
    {
     "data": {
      "text/plain": [
       "[<matplotlib.lines.Line2D at 0x22cfc61dec8>]"
      ]
     },
     "execution_count": 18,
     "metadata": {},
     "output_type": "execute_result"
    },
    {
     "data": {
      "image/png": "[encoded data removed]",
      "text/plain": [
       "<Figure size 432x288 with 1 Axes>"
      ]
     },
     "metadata": {
      "needs_background": "light"
     },
     "output_type": "display_data"
    }
   ],
   "source": [
    "plt.plot(losses)"
   ]
  },
  {
   "cell_type": "code",
   "execution_count": null,
   "metadata": {},
   "outputs": [],
   "source": []
  },
  {
   "cell_type": "code",
   "execution_count": null,
   "metadata": {},
   "outputs": [],
   "source": []
  },
  {
   "cell_type": "code",
   "execution_count": null,
   "metadata": {},
   "outputs": [],
   "source": []
  },
  {
   "cell_type": "code",
   "execution_count": null,
   "metadata": {},
   "outputs": [],
   "source": []
  },
  {
   "cell_type": "code",
   "execution_count": null,
   "metadata": {},
   "outputs": [],
   "source": []
  },
  {
   "cell_type": "code",
   "execution_count": null,
   "metadata": {},
   "outputs": [],
   "source": []
  },
  {
   "cell_type": "code",
   "execution_count": null,
   "metadata": {},
   "outputs": [],
   "source": []
  }
 ],
 "metadata": {
  "kernelspec": {
   "display_name": "Python 3",
   "language": "python",
   "name": "python3"
  },
  "language_info": {
   "codemirror_mode": {
    "name": "ipython",
    "version": 3
   },
   "file_extension": ".py",
   "mimetype": "text/x-python",
   "name": "python",
   "nbconvert_exporter": "python",
   "pygments_lexer": "ipython3",
   "version": "3.7.7"
  }
 },
 "nbformat": 4,
 "nbformat_minor": 4
}
