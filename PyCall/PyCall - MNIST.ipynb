{
 "cells": [
  {
   "cell_type": "code",
   "execution_count": 1,
   "metadata": {},
   "outputs": [
    {
     "name": "stderr",
     "output_type": "stream",
     "text": [
      "┌ Info: Precompiling PyCall [438e738f-606a-5dbb-bf0a-cddfbfd45ab0]\n",
      "└ @ Base loading.jl:1278\n"
     ]
    }
   ],
   "source": [
    "using PyCall"
   ]
  },
  {
   "cell_type": "code",
   "execution_count": 3,
   "metadata": {},
   "outputs": [],
   "source": [
    "@pyimport numpy"
   ]
  },
  {
   "cell_type": "code",
   "execution_count": 4,
   "metadata": {},
   "outputs": [
    {
     "data": {
      "text/plain": [
       "6-element Array{Int64,1}:\n",
       " 1\n",
       " 2\n",
       " 3\n",
       " 4\n",
       " 5\n",
       " 6"
      ]
     },
     "execution_count": 4,
     "metadata": {},
     "output_type": "execute_result"
    }
   ],
   "source": [
    "x = numpy.array([1,2,3,4,5,6])"
   ]
  },
  {
   "cell_type": "code",
   "execution_count": 6,
   "metadata": {},
   "outputs": [
    {
     "ename": "LoadError",
     "evalue": "UndefVarError: PKG not defined",
     "output_type": "error",
     "traceback": [
      "UndefVarError: PKG not defined",
      "",
      "Stacktrace:",
      " [1] top-level scope at In[6]:1",
      " [2] include_string(::Function, ::Module, ::String, ::String) at .\\loading.jl:1091"
     ]
    }
   ],
   "source": [
    "pyimport_conda(\"tensorflow\", PKG)"
   ]
  },
  {
   "cell_type": "code",
   "execution_count": 7,
   "metadata": {},
   "outputs": [
    {
     "ename": "LoadError",
     "evalue": "PyError (PyImport_ImportModule\n\nThe Python package pandas could not be imported by pyimport. Usually this means\nthat you did not install pandas in the Python version being used by PyCall.\n\nPyCall is currently configured to use the Julia-specific Python distribution\ninstalled by the Conda.jl package.  To install the pandas module, you can\nuse `pyimport_conda(\"pandas\", PKG)`, where PKG is the Anaconda\npackage the contains the module pandas, or alternatively you can use the\nConda package directly (via `using Conda` followed by `Conda.add` etcetera).\n\nAlternatively, if you want to use a different Python distribution on your\nsystem, such as a system-wide Python (as opposed to the Julia-specific Python),\nyou can re-configure PyCall with that Python.   As explained in the PyCall\ndocumentation, set ENV[\"PYTHON\"] to the path/name of the python executable\nyou want to use, run Pkg.build(\"PyCall\"), and re-launch Julia.\n\n) <class 'ModuleNotFoundError'>\nModuleNotFoundError(\"No module named 'pandas'\")\n",
     "output_type": "error",
     "traceback": [
      "PyError (PyImport_ImportModule\n\nThe Python package pandas could not be imported by pyimport. Usually this means\nthat you did not install pandas in the Python version being used by PyCall.\n\nPyCall is currently configured to use the Julia-specific Python distribution\ninstalled by the Conda.jl package.  To install the pandas module, you can\nuse `pyimport_conda(\"pandas\", PKG)`, where PKG is the Anaconda\npackage the contains the module pandas, or alternatively you can use the\nConda package directly (via `using Conda` followed by `Conda.add` etcetera).\n\nAlternatively, if you want to use a different Python distribution on your\nsystem, such as a system-wide Python (as opposed to the Julia-specific Python),\nyou can re-configure PyCall with that Python.   As explained in the PyCall\ndocumentation, set ENV[\"PYTHON\"] to the path/name of the python executable\nyou want to use, run Pkg.build(\"PyCall\"), and re-launch Julia.\n\n) <class 'ModuleNotFoundError'>\nModuleNotFoundError(\"No module named 'pandas'\")\n",
      "",
      "Stacktrace:",
      " [1] pyimport(::String) at C:\\Users\\Saad.LAKES\\.julia\\packages\\PyCall\\BcTLp\\src\\PyCall.jl:547",
      " [2] top-level scope at C:\\Users\\Saad.LAKES\\.julia\\packages\\PyCall\\BcTLp\\src\\PyCall.jl:591",
      " [3] include_string(::Function, ::Module, ::String, ::String) at .\\loading.jl:1091"
     ]
    }
   ],
   "source": [
    "@pyimport pandas"
   ]
  },
  {
   "cell_type": "code",
   "execution_count": 10,
   "metadata": {},
   "outputs": [
    {
     "name": "stderr",
     "output_type": "stream",
     "text": [
      "┌ Info: Running `conda install -y tensorflow` in root environment\n",
      "└ @ Conda C:\\Users\\Saad.LAKES\\.julia\\packages\\Conda\\x5ml4\\src\\Conda.jl:115\n"
     ]
    },
    {
     "name": "stdout",
     "output_type": "stream",
     "text": [
      "Collecting package metadata (current_repodata.json): ...working... done\n",
      "Solving environment: ...working... done\n",
      "\n",
      "## Package Plan ##\n",
      "\n",
      "  environment location: C:\\Users\\Saad.LAKES\\.julia\\conda\\3\n",
      "\n",
      "  added / updated specs:\n",
      "    - tensorflow\n",
      "\n",
      "\n",
      "The following packages will be downloaded:\n",
      "\n",
      "    package                    |            build\n",
      "    ---------------------------|-----------------\n",
      "    _tflow_select-2.3.0        |            eigen           4 KB\n",
      "    absl-py-0.11.0             |     pyhd3eb1b0_1         103 KB\n",
      "    aiohttp-3.7.3              |   py38h2bbff1b_1         514 KB\n",
      "    astunparse-1.6.3           |             py_0          17 KB\n",
      "    async-timeout-3.0.1        |           py38_0          13 KB\n",
      "    attrs-20.3.0               |     pyhd3eb1b0_0          43 KB\n",
      "    blinker-1.4                |           py38_0          22 KB\n",
      "    cachetools-4.2.0           |     pyhd3eb1b0_0          13 KB\n",
      "    click-7.1.2                |             py_0          71 KB\n",
      "    cryptography-2.9.2         |   py38h7a1dbc1_0         525 KB\n",
      "    gast-0.4.0                 |             py_0          15 KB\n",
      "    google-auth-1.24.0         |     pyhd3eb1b0_0          61 KB\n",
      "    google-auth-oauthlib-0.4.2 |     pyhd3eb1b0_2          18 KB\n",
      "    google-pasta-0.2.0         |             py_0          46 KB\n",
      "    grpcio-1.31.0              |   py38he7da953_0         1.5 MB\n",
      "    h5py-2.10.0                |   py38h5e291fa_0         841 KB\n",
      "    hdf5-1.10.4                |       h7ebc959_0         7.9 MB\n",
      "    importlib-metadata-2.0.0   |             py_1          35 KB\n",
      "    keras-applications-1.0.8   |             py_1          29 KB\n",
      "    keras-preprocessing-1.1.0  |             py_1          37 KB\n",
      "    libprotobuf-3.13.0.1       |       h200bbdf_0         1.8 MB\n",
      "    markdown-3.3.3             |   py38haa95532_0         166 KB\n",
      "    multidict-4.7.6            |   py38he774522_1          60 KB\n",
      "    oauthlib-3.1.0             |             py_0          91 KB\n",
      "    opt_einsum-3.1.0           |             py_0          54 KB\n",
      "    protobuf-3.13.0.1          |   py38ha925a31_1         539 KB\n",
      "    pyasn1-0.4.8               |             py_0          57 KB\n",
      "    pyasn1-modules-0.2.8       |             py_0          72 KB\n",
      "    pyjwt-2.0.0                |   py38haa95532_0          31 KB\n",
      "    pyreadline-2.1             |           py38_1         145 KB\n",
      "    requests-oauthlib-1.3.0    |             py_0          23 KB\n",
      "    rsa-4.6                    |             py_0          26 KB\n",
      "    tensorboard-2.3.0          |     pyh4dce500_0         5.2 MB\n",
      "    tensorboard-plugin-wit-1.6.0|             py_0         630 KB\n",
      "    tensorflow-2.3.0           |mkl_py38h8c0d9a2_0           6 KB\n",
      "    tensorflow-base-2.3.0      |eigen_py38h75a453f_0        49.5 MB\n",
      "    tensorflow-estimator-2.3.0 |     pyheb71bc4_0         271 KB\n",
      "    termcolor-1.1.0            |           py38_1           8 KB\n",
      "    typing-extensions-3.7.4.3  |                0          12 KB\n",
      "    typing_extensions-3.7.4.3  |             py_0          28 KB\n",
      "    werkzeug-1.0.1             |             py_0         240 KB\n",
      "    wrapt-1.12.1               |   py38he774522_1          49 KB\n",
      "    yarl-1.5.1                 |   py38he774522_0         137 KB\n",
      "    zipp-3.4.0                 |     pyhd3eb1b0_0          15 KB\n",
      "    ------------------------------------------------------------\n",
      "                                           Total:        70.9 MB\n",
      "\n",
      "The following NEW packages will be INSTALLED:\n",
      "\n",
      "  _tflow_select      pkgs/main/win-64::_tflow_select-2.3.0-eigen\n",
      "  absl-py            pkgs/main/noarch::absl-py-0.11.0-pyhd3eb1b0_1\n",
      "  aiohttp            pkgs/main/win-64::aiohttp-3.7.3-py38h2bbff1b_1\n",
      "  astunparse         pkgs/main/noarch::astunparse-1.6.3-py_0\n",
      "  async-timeout      pkgs/main/win-64::async-timeout-3.0.1-py38_0\n",
      "  attrs              pkgs/main/noarch::attrs-20.3.0-pyhd3eb1b0_0\n",
      "  blinker            pkgs/main/win-64::blinker-1.4-py38_0\n",
      "  cachetools         pkgs/main/noarch::cachetools-4.2.0-pyhd3eb1b0_0\n",
      "  click              pkgs/main/noarch::click-7.1.2-py_0\n",
      "  gast               pkgs/main/noarch::gast-0.4.0-py_0\n",
      "  google-auth        pkgs/main/noarch::google-auth-1.24.0-pyhd3eb1b0_0\n",
      "  google-auth-oauth~ pkgs/main/noarch::google-auth-oauthlib-0.4.2-pyhd3eb1b0_2\n",
      "  google-pasta       pkgs/main/noarch::google-pasta-0.2.0-py_0\n",
      "  grpcio             pkgs/main/win-64::grpcio-1.31.0-py38he7da953_0\n",
      "  h5py               pkgs/main/win-64::h5py-2.10.0-py38h5e291fa_0\n",
      "  hdf5               pkgs/main/win-64::hdf5-1.10.4-h7ebc959_0\n",
      "  importlib-metadata pkgs/main/noarch::importlib-metadata-2.0.0-py_1\n",
      "  keras-applications pkgs/main/noarch::keras-applications-1.0.8-py_1\n",
      "  keras-preprocessi~ pkgs/main/noarch::keras-preprocessing-1.1.0-py_1\n",
      "  libprotobuf        pkgs/main/win-64::libprotobuf-3.13.0.1-h200bbdf_0\n",
      "  markdown           pkgs/main/win-64::markdown-3.3.3-py38haa95532_0\n",
      "  multidict          pkgs/main/win-64::multidict-4.7.6-py38he774522_1\n",
      "  oauthlib           pkgs/main/noarch::oauthlib-3.1.0-py_0\n",
      "  opt_einsum         pkgs/main/noarch::opt_einsum-3.1.0-py_0\n",
      "  protobuf           pkgs/main/win-64::protobuf-3.13.0.1-py38ha925a31_1\n",
      "  pyasn1             pkgs/main/noarch::pyasn1-0.4.8-py_0\n",
      "  pyasn1-modules     pkgs/main/noarch::pyasn1-modules-0.2.8-py_0\n",
      "  pyjwt              pkgs/main/win-64::pyjwt-2.0.0-py38haa95532_0\n",
      "  pyreadline         pkgs/main/win-64::pyreadline-2.1-py38_1\n",
      "  requests-oauthlib  pkgs/main/noarch::requests-oauthlib-1.3.0-py_0\n",
      "  rsa                pkgs/main/noarch::rsa-4.6-py_0\n",
      "  tensorboard        pkgs/main/noarch::tensorboard-2.3.0-pyh4dce500_0\n",
      "  tensorboard-plugi~ pkgs/main/noarch::tensorboard-plugin-wit-1.6.0-py_0\n",
      "  tensorflow         pkgs/main/win-64::tensorflow-2.3.0-mkl_py38h8c0d9a2_0\n",
      "  tensorflow-base    pkgs/main/win-64::tensorflow-base-2.3.0-eigen_py38h75a453f_0\n",
      "  tensorflow-estima~ pkgs/main/noarch::tensorflow-estimator-2.3.0-pyheb71bc4_0\n",
      "  termcolor          pkgs/main/win-64::termcolor-1.1.0-py38_1\n",
      "  typing-extensions  pkgs/main/noarch::typing-extensions-3.7.4.3-0\n",
      "  typing_extensions  pkgs/main/noarch::typing_extensions-3.7.4.3-py_0\n",
      "  werkzeug           pkgs/main/noarch::werkzeug-1.0.1-py_0\n",
      "  wrapt              pkgs/main/win-64::wrapt-1.12.1-py38he774522_1\n",
      "  yarl               pkgs/main/win-64::yarl-1.5.1-py38he774522_0\n",
      "  zipp               pkgs/main/noarch::zipp-3.4.0-pyhd3eb1b0_0\n",
      "\n",
      "The following packages will be DOWNGRADED:\n",
      "\n",
      "  chardet                           4.0.0-py38haa95532_1003 --> 3.0.4-py38haa95532_1003\n",
      "  cryptography                         3.3.1-py38hcd4344a_0 --> 2.9.2-py38h7a1dbc1_0\n",
      "\n",
      "\n",
      "\n",
      "Downloading and Extracting Packages\n",
      "pyasn1-0.4.8         | 57 KB     | ########## | 100% \n",
      "attrs-20.3.0         | 43 KB     | ########## | 100% \n",
      "absl-py-0.11.0       | 103 KB    | ########## | 100% \n",
      "oauthlib-3.1.0       | 91 KB     | ########## | 100% \n",
      "typing_extensions-3. | 28 KB     | ########## | 100% \n",
      "google-auth-1.24.0   | 61 KB     | ########## | 100% \n",
      "tensorboard-2.3.0    | 5.2 MB    | ########## | 100% \n",
      "keras-applications-1 | 29 KB     | ########## | 100% \n",
      "yarl-1.5.1           | 137 KB    | ########## | 100% \n",
      "tensorflow-estimator | 271 KB    | ########## | 100% \n",
      "blinker-1.4          | 22 KB     | ########## | 100% \n",
      "google-pasta-0.2.0   | 46 KB     | ########## | 100% \n",
      "typing-extensions-3. | 12 KB     | ########## | 100% \n",
      "async-timeout-3.0.1  | 13 KB     | ########## | 100% \n",
      "libprotobuf-3.13.0.1 | 1.8 MB    | ########## | 100% \n",
      "google-auth-oauthlib | 18 KB     | ########## | 100% \n",
      "markdown-3.3.3       | 166 KB    | ########## | 100% \n",
      "cachetools-4.2.0     | 13 KB     | ########## | 100% \n",
      "requests-oauthlib-1. | 23 KB     | ########## | 100% \n",
      "h5py-2.10.0          | 841 KB    | ########## | 100% \n",
      "pyasn1-modules-0.2.8 | 72 KB     | ########## | 100% \n",
      "zipp-3.4.0           | 15 KB     | ########## | 100% \n",
      "hdf5-1.10.4          | 7.9 MB    | ########## | 100% \n",
      "termcolor-1.1.0      | 8 KB      | ########## | 100% \n",
      "astunparse-1.6.3     | 17 KB     | ########## | 100% \n",
      "tensorboard-plugin-w | 630 KB    | ########## | 100% \n",
      "wrapt-1.12.1         | 49 KB     | ########## | 100% \n",
      "multidict-4.7.6      | 60 KB     | ########## | 100% \n",
      "protobuf-3.13.0.1    | 539 KB    | ########## | 100% \n",
      "grpcio-1.31.0        | 1.5 MB    | ########## | 100% \n"
     ]
    },
    {
     "name": "stdout",
     "output_type": "stream",
     "text": [
      "pyreadline-2.1       | 145 KB    | ########## | 100% \n",
      "pyjwt-2.0.0          | 31 KB     | ########## | 100% \n",
      "tensorflow-base-2.3. | 49.5 MB   | ########## | 100% \n",
      "werkzeug-1.0.1       | 240 KB    | ########## | 100% \n",
      "gast-0.4.0           | 15 KB     | ########## | 100% \n",
      "tensorflow-2.3.0     | 6 KB      | ########## | 100% \n",
      "cryptography-2.9.2   | 525 KB    | ########## | 100% \n",
      "importlib-metadata-2 | 35 KB     | ########## | 100% \n",
      "opt_einsum-3.1.0     | 54 KB     | ########## | 100% \n",
      "keras-preprocessing- | 37 KB     | ########## | 100% \n",
      "rsa-4.6              | 26 KB     | ########## | 100% \n",
      "_tflow_select-2.3.0  | 4 KB      | ########## | 100% \n",
      "click-7.1.2          | 71 KB     | ########## | 100% \n",
      "aiohttp-3.7.3        | 514 KB    | ########## | 100% \n",
      "Preparing transaction: ...working... done\n",
      "Verifying transaction: ...working... done\n",
      "Executing transaction: ...working... done\n"
     ]
    }
   ],
   "source": [
    "using Conda\n",
    "Conda.add(\"tensorflow\")"
   ]
  },
  {
   "cell_type": "code",
   "execution_count": 11,
   "metadata": {},
   "outputs": [],
   "source": [
    "@pyimport tensorflow as tf"
   ]
  },
  {
   "cell_type": "code",
   "execution_count": 12,
   "metadata": {},
   "outputs": [
    {
     "data": {
      "text/plain": [
       "\"2.3.0\""
      ]
     },
     "execution_count": 12,
     "metadata": {},
     "output_type": "execute_result"
    }
   ],
   "source": [
    "tf.__version__"
   ]
  },
  {
   "cell_type": "code",
   "execution_count": 13,
   "metadata": {},
   "outputs": [
    {
     "data": {
      "text/plain": [
       "\"1.19.2\""
      ]
     },
     "execution_count": 13,
     "metadata": {},
     "output_type": "execute_result"
    }
   ],
   "source": [
    "numpy.__version__"
   ]
  },
  {
   "cell_type": "code",
   "execution_count": 15,
   "metadata": {},
   "outputs": [],
   "source": [
    "(x_train,y_train),(x_test,y_test)=tf.keras.datasets.mnist.load_data();"
   ]
  },
  {
   "cell_type": "code",
   "execution_count": 23,
   "metadata": {},
   "outputs": [],
   "source": [
    "strain=size(x_train);\n",
    "stest= size(x_test);"
   ]
  },
  {
   "cell_type": "code",
   "execution_count": 29,
   "metadata": {},
   "outputs": [
    {
     "data": {
      "text/plain": [
       "(60000,)"
      ]
     },
     "execution_count": 29,
     "metadata": {},
     "output_type": "execute_result"
    }
   ],
   "source": [
    "size(y_train)"
   ]
  },
  {
   "cell_type": "code",
   "execution_count": 28,
   "metadata": {},
   "outputs": [
    {
     "data": {
      "text/plain": [
       "((5000, 28, 28, 1), (1000, 28, 28, 1))"
      ]
     },
     "execution_count": 28,
     "metadata": {},
     "output_type": "execute_result"
    }
   ],
   "source": [
    "x_train_reshape = reshape(x_train[1:5000,:,:],(5000,strain[2],strain[3],1))\n",
    "x_test_reshape = reshape(x_test[1:1000,:,:],(1000,stest[2],stest[3],1))\n",
    "size(x_train_reshape),size(x_test_reshape)"
   ]
  },
  {
   "cell_type": "code",
   "execution_count": 32,
   "metadata": {},
   "outputs": [],
   "source": [
    "y_train_cat=tf.keras.utils.to_categorical(y_train[1:5000],length(unique(y_train[1:5000])))\n",
    "y_test_cat =tf.keras.utils.to_categorical(y_test[1:1000],length(unique(y_test[1:1000])));"
   ]
  },
  {
   "cell_type": "code",
   "execution_count": 39,
   "metadata": {},
   "outputs": [],
   "source": [
    "model = tf.keras.Sequential()\n",
    "model.add(tf.keras.layers.Conv2D(8,(3,3),activation=\"relu\",strides=2,input_shape=(size(x_train_reshape)[2],\n",
    "        size(x_train_reshape)[3],size(x_train_reshape)[3])))\n",
    "model.add(tf.keras.layers.Conv2D(16,(3,3),activation=\"relu\"))\n",
    "model.add(tf.keras.layers.Conv2D(32,(3,3),activation=\"relu\"))\n",
    "model.add(tf.keras.layers.GlobalMaxPooling2D())\n",
    "model.add(tf.keras.layers.Flatten())\n",
    "model.add(tf.keras.layers.Dense(10))\n",
    "model.add(tf.keras.layers.Activation(\"softmax\"))\n",
    "\n",
    "model.compile(loss=\"categorical_crossentropy\",optimizer=\"adam\",metrics=[\"accuracy\"])"
   ]
  },
  {
   "cell_type": "code",
   "execution_count": 40,
   "metadata": {},
   "outputs": [
    {
     "name": "stdout",
     "output_type": "stream",
     "text": [
      "Model: \"sequential_5\"\r\n",
      "_________________________________________________________________\r\n",
      "Layer (type)                 Output Shape              Param #   \r\n",
      "=================================================================\r\n",
      "conv2d_4 (Conv2D)            (None, 13, 13, 8)         2024      \r\n",
      "_________________________________________________________________\r\n",
      "conv2d_5 (Conv2D)            (None, 11, 11, 16)        1168      \r\n",
      "_________________________________________________________________\r\n",
      "conv2d_6 (Conv2D)            (None, 9, 9, 32)          4640      \r\n",
      "_________________________________________________________________\r\n",
      "global_max_pooling2d_1 (Glob (None, 32)                0         \r\n",
      "_________________________________________________________________\r\n",
      "flatten_1 (Flatten)          (None, 32)                0         \r\n",
      "_________________________________________________________________\r\n",
      "dense_1 (Dense)              (None, 10)                330       \r\n",
      "_________________________________________________________________\r\n",
      "activation_1 (Activation)    (None, 10)                0         \r\n",
      "=================================================================\r\n",
      "Total params: 8,162\r\n",
      "Trainable params: 8,162\r\n",
      "Non-trainable params: 0\r\n",
      "_________________________________________________________________\r\n"
     ]
    }
   ],
   "source": [
    "model.summary()"
   ]
  },
  {
   "cell_type": "code",
   "execution_count": 43,
   "metadata": {
    "collapsed": true
   },
   "outputs": [
    {
     "name": "stdout",
     "output_type": "stream",
     "text": [
      "Epoch 1/10\r\n"
     ]
    },
    {
     "ename": "LoadError",
     "evalue": "PyError ($(Expr(:escape, :(ccall(#= C:\\Users\\Saad.LAKES\\.julia\\packages\\PyCall\\BcTLp\\src\\pyfncall.jl:43 =# @pysym(:PyObject_Call), PyPtr, (PyPtr, PyPtr, PyPtr), o, pyargsptr, kw))))) <class 'ValueError'>\nValueError('in user code:\\n\\n    C:\\\\Users\\\\Saad.LAKES\\\\.julia\\\\conda\\\\3\\\\lib\\\\site-packages\\\\tensorflow\\\\python\\\\keras\\\\engine\\\\training.py:806 train_function  *\\n        return step_function(self, iterator)\\n    C:\\\\Users\\\\Saad.LAKES\\\\.julia\\\\conda\\\\3\\\\lib\\\\site-packages\\\\tensorflow\\\\python\\\\keras\\\\engine\\\\training.py:796 step_function  **\\n        outputs = model.distribute_strategy.run(run_step, args=(data,))\\n    C:\\\\Users\\\\Saad.LAKES\\\\.julia\\\\conda\\\\3\\\\lib\\\\site-packages\\\\tensorflow\\\\python\\\\distribute\\\\distribute_lib.py:1211 run\\n        return self._extended.call_for_each_replica(fn, args=args, kwargs=kwargs)\\n    C:\\\\Users\\\\Saad.LAKES\\\\.julia\\\\conda\\\\3\\\\lib\\\\site-packages\\\\tensorflow\\\\python\\\\distribute\\\\distribute_lib.py:2585 call_for_each_replica\\n        return self._call_for_each_replica(fn, args, kwargs)\\n    C:\\\\Users\\\\Saad.LAKES\\\\.julia\\\\conda\\\\3\\\\lib\\\\site-packages\\\\tensorflow\\\\python\\\\distribute\\\\distribute_lib.py:2945 _call_for_each_replica\\n        return fn(*args, **kwargs)\\n    C:\\\\Users\\\\Saad.LAKES\\\\.julia\\\\conda\\\\3\\\\lib\\\\site-packages\\\\tensorflow\\\\python\\\\keras\\\\engine\\\\training.py:789 run_step  **\\n        outputs = model.train_step(data)\\n    C:\\\\Users\\\\Saad.LAKES\\\\.julia\\\\conda\\\\3\\\\lib\\\\site-packages\\\\tensorflow\\\\python\\\\keras\\\\engine\\\\training.py:747 train_step\\n        y_pred = self(x, training=True)\\n    C:\\\\Users\\\\Saad.LAKES\\\\.julia\\\\conda\\\\3\\\\lib\\\\site-packages\\\\tensorflow\\\\python\\\\keras\\\\engine\\\\base_layer.py:975 __call__\\n        input_spec.assert_input_compatibility(self.input_spec, inputs,\\n    C:\\\\Users\\\\Saad.LAKES\\\\.julia\\\\conda\\\\3\\\\lib\\\\site-packages\\\\tensorflow\\\\python\\\\keras\\\\engine\\\\input_spec.py:212 assert_input_compatibility\\n        raise ValueError(\\n\\n    ValueError: Input 0 of layer sequential_5 is incompatible with the layer: expected axis -1 of input shape to have value 28 but received input with shape [None, 28, 28, 1]\\n')\n  File \"C:\\Users\\Saad.LAKES\\.julia\\conda\\3\\lib\\site-packages\\tensorflow\\python\\keras\\engine\\training.py\", line 108, in _method_wrapper\n    return method(self, *args, **kwargs)\n  File \"C:\\Users\\Saad.LAKES\\.julia\\conda\\3\\lib\\site-packages\\tensorflow\\python\\keras\\engine\\training.py\", line 1098, in fit\n    tmp_logs = train_function(iterator)\n  File \"C:\\Users\\Saad.LAKES\\.julia\\conda\\3\\lib\\site-packages\\tensorflow\\python\\eager\\def_function.py\", line 780, in __call__\n    result = self._call(*args, **kwds)\n  File \"C:\\Users\\Saad.LAKES\\.julia\\conda\\3\\lib\\site-packages\\tensorflow\\python\\eager\\def_function.py\", line 814, in _call\n    results = self._stateful_fn(*args, **kwds)\n  File \"C:\\Users\\Saad.LAKES\\.julia\\conda\\3\\lib\\site-packages\\tensorflow\\python\\eager\\function.py\", line 2828, in __call__\n    graph_function, args, kwargs = self._maybe_define_function(args, kwargs)\n  File \"C:\\Users\\Saad.LAKES\\.julia\\conda\\3\\lib\\site-packages\\tensorflow\\python\\eager\\function.py\", line 3210, in _maybe_define_function\n    return self._define_function_with_shape_relaxation(args, kwargs)\n  File \"C:\\Users\\Saad.LAKES\\.julia\\conda\\3\\lib\\site-packages\\tensorflow\\python\\eager\\function.py\", line 3141, in _define_function_with_shape_relaxation\n    graph_function = self._create_graph_function(\n  File \"C:\\Users\\Saad.LAKES\\.julia\\conda\\3\\lib\\site-packages\\tensorflow\\python\\eager\\function.py\", line 3065, in _create_graph_function\n    func_graph_module.func_graph_from_py_func(\n  File \"C:\\Users\\Saad.LAKES\\.julia\\conda\\3\\lib\\site-packages\\tensorflow\\python\\framework\\func_graph.py\", line 986, in func_graph_from_py_func\n    func_outputs = python_func(*func_args, **func_kwargs)\n  File \"C:\\Users\\Saad.LAKES\\.julia\\conda\\3\\lib\\site-packages\\tensorflow\\python\\eager\\def_function.py\", line 600, in wrapped_fn\n    return weak_wrapped_fn().__wrapped__(*args, **kwds)\n  File \"C:\\Users\\Saad.LAKES\\.julia\\conda\\3\\lib\\site-packages\\tensorflow\\python\\framework\\func_graph.py\", line 973, in wrapper\n    raise e.ag_error_metadata.to_exception(e)\n",
     "output_type": "error",
     "traceback": [
      "PyError ($(Expr(:escape, :(ccall(#= C:\\Users\\Saad.LAKES\\.julia\\packages\\PyCall\\BcTLp\\src\\pyfncall.jl:43 =# @pysym(:PyObject_Call), PyPtr, (PyPtr, PyPtr, PyPtr), o, pyargsptr, kw))))) <class 'ValueError'>\nValueError('in user code:\\n\\n    C:\\\\Users\\\\Saad.LAKES\\\\.julia\\\\conda\\\\3\\\\lib\\\\site-packages\\\\tensorflow\\\\python\\\\keras\\\\engine\\\\training.py:806 train_function  *\\n        return step_function(self, iterator)\\n    C:\\\\Users\\\\Saad.LAKES\\\\.julia\\\\conda\\\\3\\\\lib\\\\site-packages\\\\tensorflow\\\\python\\\\keras\\\\engine\\\\training.py:796 step_function  **\\n        outputs = model.distribute_strategy.run(run_step, args=(data,))\\n    C:\\\\Users\\\\Saad.LAKES\\\\.julia\\\\conda\\\\3\\\\lib\\\\site-packages\\\\tensorflow\\\\python\\\\distribute\\\\distribute_lib.py:1211 run\\n        return self._extended.call_for_each_replica(fn, args=args, kwargs=kwargs)\\n    C:\\\\Users\\\\Saad.LAKES\\\\.julia\\\\conda\\\\3\\\\lib\\\\site-packages\\\\tensorflow\\\\python\\\\distribute\\\\distribute_lib.py:2585 call_for_each_replica\\n        return self._call_for_each_replica(fn, args, kwargs)\\n    C:\\\\Users\\\\Saad.LAKES\\\\.julia\\\\conda\\\\3\\\\lib\\\\site-packages\\\\tensorflow\\\\python\\\\distribute\\\\distribute_lib.py:2945 _call_for_each_replica\\n        return fn(*args, **kwargs)\\n    C:\\\\Users\\\\Saad.LAKES\\\\.julia\\\\conda\\\\3\\\\lib\\\\site-packages\\\\tensorflow\\\\python\\\\keras\\\\engine\\\\training.py:789 run_step  **\\n        outputs = model.train_step(data)\\n    C:\\\\Users\\\\Saad.LAKES\\\\.julia\\\\conda\\\\3\\\\lib\\\\site-packages\\\\tensorflow\\\\python\\\\keras\\\\engine\\\\training.py:747 train_step\\n        y_pred = self(x, training=True)\\n    C:\\\\Users\\\\Saad.LAKES\\\\.julia\\\\conda\\\\3\\\\lib\\\\site-packages\\\\tensorflow\\\\python\\\\keras\\\\engine\\\\base_layer.py:975 __call__\\n        input_spec.assert_input_compatibility(self.input_spec, inputs,\\n    C:\\\\Users\\\\Saad.LAKES\\\\.julia\\\\conda\\\\3\\\\lib\\\\site-packages\\\\tensorflow\\\\python\\\\keras\\\\engine\\\\input_spec.py:212 assert_input_compatibility\\n        raise ValueError(\\n\\n    ValueError: Input 0 of layer sequential_5 is incompatible with the layer: expected axis -1 of input shape to have value 28 but received input with shape [None, 28, 28, 1]\\n')\n  File \"C:\\Users\\Saad.LAKES\\.julia\\conda\\3\\lib\\site-packages\\tensorflow\\python\\keras\\engine\\training.py\", line 108, in _method_wrapper\n    return method(self, *args, **kwargs)\n  File \"C:\\Users\\Saad.LAKES\\.julia\\conda\\3\\lib\\site-packages\\tensorflow\\python\\keras\\engine\\training.py\", line 1098, in fit\n    tmp_logs = train_function(iterator)\n  File \"C:\\Users\\Saad.LAKES\\.julia\\conda\\3\\lib\\site-packages\\tensorflow\\python\\eager\\def_function.py\", line 780, in __call__\n    result = self._call(*args, **kwds)\n  File \"C:\\Users\\Saad.LAKES\\.julia\\conda\\3\\lib\\site-packages\\tensorflow\\python\\eager\\def_function.py\", line 814, in _call\n    results = self._stateful_fn(*args, **kwds)\n  File \"C:\\Users\\Saad.LAKES\\.julia\\conda\\3\\lib\\site-packages\\tensorflow\\python\\eager\\function.py\", line 2828, in __call__\n    graph_function, args, kwargs = self._maybe_define_function(args, kwargs)\n  File \"C:\\Users\\Saad.LAKES\\.julia\\conda\\3\\lib\\site-packages\\tensorflow\\python\\eager\\function.py\", line 3210, in _maybe_define_function\n    return self._define_function_with_shape_relaxation(args, kwargs)\n  File \"C:\\Users\\Saad.LAKES\\.julia\\conda\\3\\lib\\site-packages\\tensorflow\\python\\eager\\function.py\", line 3141, in _define_function_with_shape_relaxation\n    graph_function = self._create_graph_function(\n  File \"C:\\Users\\Saad.LAKES\\.julia\\conda\\3\\lib\\site-packages\\tensorflow\\python\\eager\\function.py\", line 3065, in _create_graph_function\n    func_graph_module.func_graph_from_py_func(\n  File \"C:\\Users\\Saad.LAKES\\.julia\\conda\\3\\lib\\site-packages\\tensorflow\\python\\framework\\func_graph.py\", line 986, in func_graph_from_py_func\n    func_outputs = python_func(*func_args, **func_kwargs)\n  File \"C:\\Users\\Saad.LAKES\\.julia\\conda\\3\\lib\\site-packages\\tensorflow\\python\\eager\\def_function.py\", line 600, in wrapped_fn\n    return weak_wrapped_fn().__wrapped__(*args, **kwds)\n  File \"C:\\Users\\Saad.LAKES\\.julia\\conda\\3\\lib\\site-packages\\tensorflow\\python\\framework\\func_graph.py\", line 973, in wrapper\n    raise e.ag_error_metadata.to_exception(e)\n",
      "",
      "Stacktrace:",
      " [1] pyerr_check at C:\\Users\\Saad.LAKES\\.julia\\packages\\PyCall\\BcTLp\\src\\exception.jl:62 [inlined]",
      " [2] pyerr_check at C:\\Users\\Saad.LAKES\\.julia\\packages\\PyCall\\BcTLp\\src\\exception.jl:66 [inlined]",
      " [3] _handle_error(::String) at C:\\Users\\Saad.LAKES\\.julia\\packages\\PyCall\\BcTLp\\src\\exception.jl:83",
      " [4] macro expansion at C:\\Users\\Saad.LAKES\\.julia\\packages\\PyCall\\BcTLp\\src\\exception.jl:97 [inlined]",
      " [5] #110 at C:\\Users\\Saad.LAKES\\.julia\\packages\\PyCall\\BcTLp\\src\\pyfncall.jl:43 [inlined]",
      " [6] disable_sigint at .\\c.jl:446 [inlined]",
      " [7] __pycall! at C:\\Users\\Saad.LAKES\\.julia\\packages\\PyCall\\BcTLp\\src\\pyfncall.jl:42 [inlined]",
      " [8] _pycall!(::PyObject, ::PyObject, ::Tuple{Array{UInt8,4},Array{Float32,2}}, ::Int64, ::PyObject) at C:\\Users\\Saad.LAKES\\.julia\\packages\\PyCall\\BcTLp\\src\\pyfncall.jl:29",
      " [9] _pycall!(::PyObject, ::PyObject, ::Tuple{Array{UInt8,4},Array{Float32,2}}, ::Base.Iterators.Pairs{Symbol,Int64,Tuple{Symbol,Symbol},NamedTuple{(:epochs, :batch_size),Tuple{Int64,Int64}}}) at C:\\Users\\Saad.LAKES\\.julia\\packages\\PyCall\\BcTLp\\src\\pyfncall.jl:11",
      " [10] #_#117 at C:\\Users\\Saad.LAKES\\.julia\\packages\\PyCall\\BcTLp\\src\\pyfncall.jl:86 [inlined]",
      " [11] top-level scope at In[43]:1",
      " [12] include_string(::Function, ::Module, ::String, ::String) at .\\loading.jl:1091"
     ]
    }
   ],
   "source": [
    "history=model.fit(x_train_reshape,y_train_cat,epochs=10,batch_size=128)"
   ]
  },
  {
   "cell_type": "code",
   "execution_count": 44,
   "metadata": {},
   "outputs": [
    {
     "data": {
      "text/plain": [
       "(5000, 28, 28, 1)"
      ]
     },
     "execution_count": 44,
     "metadata": {},
     "output_type": "execute_result"
    }
   ],
   "source": [
    "size(x_train_reshape)"
   ]
  },
  {
   "cell_type": "code",
   "execution_count": null,
   "metadata": {},
   "outputs": [],
   "source": []
  },
  {
   "cell_type": "code",
   "execution_count": null,
   "metadata": {},
   "outputs": [],
   "source": []
  }
 ],
 "metadata": {
  "kernelspec": {
   "display_name": "Julia 1.5.3",
   "language": "julia",
   "name": "julia-1.5"
  },
  "language_info": {
   "file_extension": ".jl",
   "mimetype": "application/julia",
   "name": "julia",
   "version": "1.5.3"
  }
 },
 "nbformat": 4,
 "nbformat_minor": 4
}
