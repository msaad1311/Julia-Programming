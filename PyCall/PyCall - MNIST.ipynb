{
 "cells": [
  {
   "cell_type": "code",
   "execution_count": 2,
   "metadata": {},
   "outputs": [],
   "source": [
    "using PyCall"
   ]
  },
  {
   "cell_type": "code",
   "execution_count": 3,
   "metadata": {},
   "outputs": [],
   "source": [
    "@pyimport numpy"
   ]
  },
  {
   "cell_type": "code",
   "execution_count": 4,
   "metadata": {},
   "outputs": [
    {
     "data": {
      "text/plain": [
       "6-element Array{Int64,1}:\n",
       " 1\n",
       " 2\n",
       " 3\n",
       " 4\n",
       " 5\n",
       " 6"
      ]
     },
     "execution_count": 4,
     "metadata": {},
     "output_type": "execute_result"
    }
   ],
   "source": [
    "x = numpy.array([1,2,3,4,5,6])"
   ]
  },
  {
   "cell_type": "code",
   "execution_count": 6,
   "metadata": {},
   "outputs": [
    {
     "ename": "LoadError",
     "evalue": "UndefVarError: PKG not defined",
     "output_type": "error",
     "traceback": [
      "UndefVarError: PKG not defined",
      "",
      "Stacktrace:",
      " [1] top-level scope at In[6]:1",
      " [2] include_string(::Function, ::Module, ::String, ::String) at .\\loading.jl:1091"
     ]
    }
   ],
   "source": [
    "pyimport_conda(\"tensorflow\", PKG)"
   ]
  },
  {
   "cell_type": "code",
   "execution_count": 7,
   "metadata": {},
   "outputs": [
    {
     "ename": "LoadError",
     "evalue": "PyError (PyImport_ImportModule\n\nThe Python package pandas could not be imported by pyimport. Usually this means\nthat you did not install pandas in the Python version being used by PyCall.\n\nPyCall is currently configured to use the Julia-specific Python distribution\ninstalled by the Conda.jl package.  To install the pandas module, you can\nuse `pyimport_conda(\"pandas\", PKG)`, where PKG is the Anaconda\npackage the contains the module pandas, or alternatively you can use the\nConda package directly (via `using Conda` followed by `Conda.add` etcetera).\n\nAlternatively, if you want to use a different Python distribution on your\nsystem, such as a system-wide Python (as opposed to the Julia-specific Python),\nyou can re-configure PyCall with that Python.   As explained in the PyCall\ndocumentation, set ENV[\"PYTHON\"] to the path/name of the python executable\nyou want to use, run Pkg.build(\"PyCall\"), and re-launch Julia.\n\n) <class 'ModuleNotFoundError'>\nModuleNotFoundError(\"No module named 'pandas'\")\n",
     "output_type": "error",
     "traceback": [
      "PyError (PyImport_ImportModule\n\nThe Python package pandas could not be imported by pyimport. Usually this means\nthat you did not install pandas in the Python version being used by PyCall.\n\nPyCall is currently configured to use the Julia-specific Python distribution\ninstalled by the Conda.jl package.  To install the pandas module, you can\nuse `pyimport_conda(\"pandas\", PKG)`, where PKG is the Anaconda\npackage the contains the module pandas, or alternatively you can use the\nConda package directly (via `using Conda` followed by `Conda.add` etcetera).\n\nAlternatively, if you want to use a different Python distribution on your\nsystem, such as a system-wide Python (as opposed to the Julia-specific Python),\nyou can re-configure PyCall with that Python.   As explained in the PyCall\ndocumentation, set ENV[\"PYTHON\"] to the path/name of the python executable\nyou want to use, run Pkg.build(\"PyCall\"), and re-launch Julia.\n\n) <class 'ModuleNotFoundError'>\nModuleNotFoundError(\"No module named 'pandas'\")\n",
      "",
      "Stacktrace:",
      " [1] pyimport(::String) at C:\\Users\\Saad.LAKES\\.julia\\packages\\PyCall\\BcTLp\\src\\PyCall.jl:547",
      " [2] top-level scope at C:\\Users\\Saad.LAKES\\.julia\\packages\\PyCall\\BcTLp\\src\\PyCall.jl:591",
      " [3] include_string(::Function, ::Module, ::String, ::String) at .\\loading.jl:1091"
     ]
    }
   ],
   "source": [
    "@pyimport pandas"
   ]
  },
  {
   "cell_type": "code",
   "execution_count": 10,
   "metadata": {},
   "outputs": [
    {
     "name": "stderr",
     "output_type": "stream",
     "text": [
      "┌ Info: Running `conda install -y tensorflow` in root environment\n",
      "└ @ Conda C:\\Users\\Saad.LAKES\\.julia\\packages\\Conda\\x5ml4\\src\\Conda.jl:115\n"
     ]
    },
    {
     "name": "stdout",
     "output_type": "stream",
     "text": [
      "Collecting package metadata (current_repodata.json): ...working... done\n",
      "Solving environment: ...working... done\n",
      "\n",
      "## Package Plan ##\n",
      "\n",
      "  environment location: C:\\Users\\Saad.LAKES\\.julia\\conda\\3\n",
      "\n",
      "  added / updated specs:\n",
      "    - tensorflow\n",
      "\n",
      "\n",
      "The following packages will be downloaded:\n",
      "\n",
      "    package                    |            build\n",
      "    ---------------------------|-----------------\n",
      "    _tflow_select-2.3.0        |            eigen           4 KB\n",
      "    absl-py-0.11.0             |     pyhd3eb1b0_1         103 KB\n",
      "    aiohttp-3.7.3              |   py38h2bbff1b_1         514 KB\n",
      "    astunparse-1.6.3           |             py_0          17 KB\n",
      "    async-timeout-3.0.1        |           py38_0          13 KB\n",
      "    attrs-20.3.0               |     pyhd3eb1b0_0          43 KB\n",
      "    blinker-1.4                |           py38_0          22 KB\n",
      "    cachetools-4.2.0           |     pyhd3eb1b0_0          13 KB\n",
      "    click-7.1.2                |             py_0          71 KB\n",
      "    cryptography-2.9.2         |   py38h7a1dbc1_0         525 KB\n",
      "    gast-0.4.0                 |             py_0          15 KB\n",
      "    google-auth-1.24.0         |     pyhd3eb1b0_0          61 KB\n",
      "    google-auth-oauthlib-0.4.2 |     pyhd3eb1b0_2          18 KB\n",
      "    google-pasta-0.2.0         |             py_0          46 KB\n",
      "    grpcio-1.31.0              |   py38he7da953_0         1.5 MB\n",
      "    h5py-2.10.0                |   py38h5e291fa_0         841 KB\n",
      "    hdf5-1.10.4                |       h7ebc959_0         7.9 MB\n",
      "    importlib-metadata-2.0.0   |             py_1          35 KB\n",
      "    keras-applications-1.0.8   |             py_1          29 KB\n",
      "    keras-preprocessing-1.1.0  |             py_1          37 KB\n",
      "    libprotobuf-3.13.0.1       |       h200bbdf_0         1.8 MB\n",
      "    markdown-3.3.3             |   py38haa95532_0         166 KB\n",
      "    multidict-4.7.6            |   py38he774522_1          60 KB\n",
      "    oauthlib-3.1.0             |             py_0          91 KB\n",
      "    opt_einsum-3.1.0           |             py_0          54 KB\n",
      "    protobuf-3.13.0.1          |   py38ha925a31_1         539 KB\n",
      "    pyasn1-0.4.8               |             py_0          57 KB\n",
      "    pyasn1-modules-0.2.8       |             py_0          72 KB\n",
      "    pyjwt-2.0.0                |   py38haa95532_0          31 KB\n",
      "    pyreadline-2.1             |           py38_1         145 KB\n",
      "    requests-oauthlib-1.3.0    |             py_0          23 KB\n",
      "    rsa-4.6                    |             py_0          26 KB\n",
      "    tensorboard-2.3.0          |     pyh4dce500_0         5.2 MB\n",
      "    tensorboard-plugin-wit-1.6.0|             py_0         630 KB\n",
      "    tensorflow-2.3.0           |mkl_py38h8c0d9a2_0           6 KB\n",
      "    tensorflow-base-2.3.0      |eigen_py38h75a453f_0        49.5 MB\n",
      "    tensorflow-estimator-2.3.0 |     pyheb71bc4_0         271 KB\n",
      "    termcolor-1.1.0            |           py38_1           8 KB\n",
      "    typing-extensions-3.7.4.3  |                0          12 KB\n",
      "    typing_extensions-3.7.4.3  |             py_0          28 KB\n",
      "    werkzeug-1.0.1             |             py_0         240 KB\n",
      "    wrapt-1.12.1               |   py38he774522_1          49 KB\n",
      "    yarl-1.5.1                 |   py38he774522_0         137 KB\n",
      "    zipp-3.4.0                 |     pyhd3eb1b0_0          15 KB\n",
      "    ------------------------------------------------------------\n",
      "                                           Total:        70.9 MB\n",
      "\n",
      "The following NEW packages will be INSTALLED:\n",
      "\n",
      "  _tflow_select      pkgs/main/win-64::_tflow_select-2.3.0-eigen\n",
      "  absl-py            pkgs/main/noarch::absl-py-0.11.0-pyhd3eb1b0_1\n",
      "  aiohttp            pkgs/main/win-64::aiohttp-3.7.3-py38h2bbff1b_1\n",
      "  astunparse         pkgs/main/noarch::astunparse-1.6.3-py_0\n",
      "  async-timeout      pkgs/main/win-64::async-timeout-3.0.1-py38_0\n",
      "  attrs              pkgs/main/noarch::attrs-20.3.0-pyhd3eb1b0_0\n",
      "  blinker            pkgs/main/win-64::blinker-1.4-py38_0\n",
      "  cachetools         pkgs/main/noarch::cachetools-4.2.0-pyhd3eb1b0_0\n",
      "  click              pkgs/main/noarch::click-7.1.2-py_0\n",
      "  gast               pkgs/main/noarch::gast-0.4.0-py_0\n",
      "  google-auth        pkgs/main/noarch::google-auth-1.24.0-pyhd3eb1b0_0\n",
      "  google-auth-oauth~ pkgs/main/noarch::google-auth-oauthlib-0.4.2-pyhd3eb1b0_2\n",
      "  google-pasta       pkgs/main/noarch::google-pasta-0.2.0-py_0\n",
      "  grpcio             pkgs/main/win-64::grpcio-1.31.0-py38he7da953_0\n",
      "  h5py               pkgs/main/win-64::h5py-2.10.0-py38h5e291fa_0\n",
      "  hdf5               pkgs/main/win-64::hdf5-1.10.4-h7ebc959_0\n",
      "  importlib-metadata pkgs/main/noarch::importlib-metadata-2.0.0-py_1\n",
      "  keras-applications pkgs/main/noarch::keras-applications-1.0.8-py_1\n",
      "  keras-preprocessi~ pkgs/main/noarch::keras-preprocessing-1.1.0-py_1\n",
      "  libprotobuf        pkgs/main/win-64::libprotobuf-3.13.0.1-h200bbdf_0\n",
      "  markdown           pkgs/main/win-64::markdown-3.3.3-py38haa95532_0\n",
      "  multidict          pkgs/main/win-64::multidict-4.7.6-py38he774522_1\n",
      "  oauthlib           pkgs/main/noarch::oauthlib-3.1.0-py_0\n",
      "  opt_einsum         pkgs/main/noarch::opt_einsum-3.1.0-py_0\n",
      "  protobuf           pkgs/main/win-64::protobuf-3.13.0.1-py38ha925a31_1\n",
      "  pyasn1             pkgs/main/noarch::pyasn1-0.4.8-py_0\n",
      "  pyasn1-modules     pkgs/main/noarch::pyasn1-modules-0.2.8-py_0\n",
      "  pyjwt              pkgs/main/win-64::pyjwt-2.0.0-py38haa95532_0\n",
      "  pyreadline         pkgs/main/win-64::pyreadline-2.1-py38_1\n",
      "  requests-oauthlib  pkgs/main/noarch::requests-oauthlib-1.3.0-py_0\n",
      "  rsa                pkgs/main/noarch::rsa-4.6-py_0\n",
      "  tensorboard        pkgs/main/noarch::tensorboard-2.3.0-pyh4dce500_0\n",
      "  tensorboard-plugi~ pkgs/main/noarch::tensorboard-plugin-wit-1.6.0-py_0\n",
      "  tensorflow         pkgs/main/win-64::tensorflow-2.3.0-mkl_py38h8c0d9a2_0\n",
      "  tensorflow-base    pkgs/main/win-64::tensorflow-base-2.3.0-eigen_py38h75a453f_0\n",
      "  tensorflow-estima~ pkgs/main/noarch::tensorflow-estimator-2.3.0-pyheb71bc4_0\n",
      "  termcolor          pkgs/main/win-64::termcolor-1.1.0-py38_1\n",
      "  typing-extensions  pkgs/main/noarch::typing-extensions-3.7.4.3-0\n",
      "  typing_extensions  pkgs/main/noarch::typing_extensions-3.7.4.3-py_0\n",
      "  werkzeug           pkgs/main/noarch::werkzeug-1.0.1-py_0\n",
      "  wrapt              pkgs/main/win-64::wrapt-1.12.1-py38he774522_1\n",
      "  yarl               pkgs/main/win-64::yarl-1.5.1-py38he774522_0\n",
      "  zipp               pkgs/main/noarch::zipp-3.4.0-pyhd3eb1b0_0\n",
      "\n",
      "The following packages will be DOWNGRADED:\n",
      "\n",
      "  chardet                           4.0.0-py38haa95532_1003 --> 3.0.4-py38haa95532_1003\n",
      "  cryptography                         3.3.1-py38hcd4344a_0 --> 2.9.2-py38h7a1dbc1_0\n",
      "\n",
      "\n",
      "\n",
      "Downloading and Extracting Packages\n",
      "pyasn1-0.4.8         | 57 KB     | ########## | 100% \n",
      "attrs-20.3.0         | 43 KB     | ########## | 100% \n",
      "absl-py-0.11.0       | 103 KB    | ########## | 100% \n",
      "oauthlib-3.1.0       | 91 KB     | ########## | 100% \n",
      "typing_extensions-3. | 28 KB     | ########## | 100% \n",
      "google-auth-1.24.0   | 61 KB     | ########## | 100% \n",
      "tensorboard-2.3.0    | 5.2 MB    | ########## | 100% \n",
      "keras-applications-1 | 29 KB     | ########## | 100% \n",
      "yarl-1.5.1           | 137 KB    | ########## | 100% \n",
      "tensorflow-estimator | 271 KB    | ########## | 100% \n",
      "blinker-1.4          | 22 KB     | ########## | 100% \n",
      "google-pasta-0.2.0   | 46 KB     | ########## | 100% \n",
      "typing-extensions-3. | 12 KB     | ########## | 100% \n",
      "async-timeout-3.0.1  | 13 KB     | ########## | 100% \n",
      "libprotobuf-3.13.0.1 | 1.8 MB    | ########## | 100% \n",
      "google-auth-oauthlib | 18 KB     | ########## | 100% \n",
      "markdown-3.3.3       | 166 KB    | ########## | 100% \n",
      "cachetools-4.2.0     | 13 KB     | ########## | 100% \n",
      "requests-oauthlib-1. | 23 KB     | ########## | 100% \n",
      "h5py-2.10.0          | 841 KB    | ########## | 100% \n",
      "pyasn1-modules-0.2.8 | 72 KB     | ########## | 100% \n",
      "zipp-3.4.0           | 15 KB     | ########## | 100% \n",
      "hdf5-1.10.4          | 7.9 MB    | ########## | 100% \n",
      "termcolor-1.1.0      | 8 KB      | ########## | 100% \n",
      "astunparse-1.6.3     | 17 KB     | ########## | 100% \n",
      "tensorboard-plugin-w | 630 KB    | ########## | 100% \n",
      "wrapt-1.12.1         | 49 KB     | ########## | 100% \n",
      "multidict-4.7.6      | 60 KB     | ########## | 100% \n",
      "protobuf-3.13.0.1    | 539 KB    | ########## | 100% \n",
      "grpcio-1.31.0        | 1.5 MB    | ########## | 100% \n"
     ]
    },
    {
     "name": "stdout",
     "output_type": "stream",
     "text": [
      "pyreadline-2.1       | 145 KB    | ########## | 100% \n",
      "pyjwt-2.0.0          | 31 KB     | ########## | 100% \n",
      "tensorflow-base-2.3. | 49.5 MB   | ########## | 100% \n",
      "werkzeug-1.0.1       | 240 KB    | ########## | 100% \n",
      "gast-0.4.0           | 15 KB     | ########## | 100% \n",
      "tensorflow-2.3.0     | 6 KB      | ########## | 100% \n",
      "cryptography-2.9.2   | 525 KB    | ########## | 100% \n",
      "importlib-metadata-2 | 35 KB     | ########## | 100% \n",
      "opt_einsum-3.1.0     | 54 KB     | ########## | 100% \n",
      "keras-preprocessing- | 37 KB     | ########## | 100% \n",
      "rsa-4.6              | 26 KB     | ########## | 100% \n",
      "_tflow_select-2.3.0  | 4 KB      | ########## | 100% \n",
      "click-7.1.2          | 71 KB     | ########## | 100% \n",
      "aiohttp-3.7.3        | 514 KB    | ########## | 100% \n",
      "Preparing transaction: ...working... done\n",
      "Verifying transaction: ...working... done\n",
      "Executing transaction: ...working... done\n"
     ]
    }
   ],
   "source": [
    "using Conda\n",
    "Conda.add(\"tensorflow\")"
   ]
  },
  {
   "cell_type": "code",
   "execution_count": 4,
   "metadata": {},
   "outputs": [],
   "source": [
    "@pyimport tensorflow as tf"
   ]
  },
  {
   "cell_type": "code",
   "execution_count": 12,
   "metadata": {},
   "outputs": [
    {
     "data": {
      "text/plain": [
       "\"2.3.0\""
      ]
     },
     "execution_count": 12,
     "metadata": {},
     "output_type": "execute_result"
    }
   ],
   "source": [
    "tf.__version__"
   ]
  },
  {
   "cell_type": "code",
   "execution_count": 13,
   "metadata": {},
   "outputs": [
    {
     "data": {
      "text/plain": [
       "\"1.19.2\""
      ]
     },
     "execution_count": 13,
     "metadata": {},
     "output_type": "execute_result"
    }
   ],
   "source": [
    "numpy.__version__"
   ]
  },
  {
   "cell_type": "code",
   "execution_count": 5,
   "metadata": {},
   "outputs": [],
   "source": [
    "(x_train,y_train),(x_test,y_test)=tf.keras.datasets.mnist.load_data();"
   ]
  },
  {
   "cell_type": "code",
   "execution_count": 6,
   "metadata": {},
   "outputs": [],
   "source": [
    "strain=size(x_train);\n",
    "stest= size(x_test);"
   ]
  },
  {
   "cell_type": "code",
   "execution_count": 29,
   "metadata": {},
   "outputs": [
    {
     "data": {
      "text/plain": [
       "(60000,)"
      ]
     },
     "execution_count": 29,
     "metadata": {},
     "output_type": "execute_result"
    }
   ],
   "source": [
    "size(y_train)"
   ]
  },
  {
   "cell_type": "code",
   "execution_count": 7,
   "metadata": {},
   "outputs": [
    {
     "data": {
      "text/plain": [
       "((5000, 28, 28, 1), (1000, 28, 28, 1))"
      ]
     },
     "execution_count": 7,
     "metadata": {},
     "output_type": "execute_result"
    }
   ],
   "source": [
    "x_train_reshape = reshape(x_train[1:5000,:,:],(5000,strain[2],strain[3],1))\n",
    "x_test_reshape = reshape(x_test[1:1000,:,:],(1000,stest[2],stest[3],1))\n",
    "size(x_train_reshape),size(x_test_reshape)"
   ]
  },
  {
   "cell_type": "code",
   "execution_count": 8,
   "metadata": {},
   "outputs": [],
   "source": [
    "y_train_cat=tf.keras.utils.to_categorical(y_train[1:5000],length(unique(y_train[1:5000])))\n",
    "y_test_cat =tf.keras.utils.to_categorical(y_test[1:1000],length(unique(y_test[1:1000])));"
   ]
  },
  {
   "cell_type": "code",
   "execution_count": 9,
   "metadata": {},
   "outputs": [
    {
     "name": "stderr",
     "output_type": "stream",
     "text": [
      "2021-01-06 13:12:54.823728: I tensorflow/core/platform/cpu_feature_guard.cc:142] This TensorFlow binary is optimized with oneAPI Deep Neural Network Library (oneDNN)to use the following CPU instructions in performance-critical operations:  AVX AVX2\n",
      "To enable them in other operations, rebuild TensorFlow with the appropriate compiler flags.\n"
     ]
    }
   ],
   "source": [
    "model = tf.keras.Sequential()\n",
    "model.add(tf.keras.layers.Conv2D(8,(3,3),activation=\"relu\",strides=2,input_shape=(size(x_train_reshape)[2],\n",
    "        size(x_train_reshape)[3],1)))\n",
    "model.add(tf.keras.layers.Conv2D(16,(3,3),activation=\"relu\"))\n",
    "model.add(tf.keras.layers.Conv2D(32,(3,3),activation=\"relu\"))\n",
    "model.add(tf.keras.layers.GlobalMaxPooling2D())\n",
    "model.add(tf.keras.layers.Flatten())\n",
    "model.add(tf.keras.layers.Dense(10))\n",
    "model.add(tf.keras.layers.Activation(\"softmax\"))\n",
    "\n",
    "model.compile(loss=\"categorical_crossentropy\",optimizer=\"adam\",metrics=[\"accuracy\"])"
   ]
  },
  {
   "cell_type": "code",
   "execution_count": 10,
   "metadata": {},
   "outputs": [
    {
     "name": "stdout",
     "output_type": "stream",
     "text": [
      "Model: \"sequential\"\r\n",
      "_________________________________________________________________\r\n",
      "Layer (type)                 Output Shape              Param #   \r\n",
      "=================================================================\r\n",
      "conv2d (Conv2D)              (None, 13, 13, 8)         80        \r\n",
      "_________________________________________________________________\r\n",
      "conv2d_1 (Conv2D)            (None, 11, 11, 16)        1168      \r\n",
      "_________________________________________________________________\r\n",
      "conv2d_2 (Conv2D)            (None, 9, 9, 32)          4640      \r\n",
      "_________________________________________________________________\r\n",
      "global_max_pooling2d (Global (None, 32)                0         \r\n",
      "_________________________________________________________________\r\n",
      "flatten (Flatten)            (None, 32)                0         \r\n",
      "_________________________________________________________________\r\n",
      "dense (Dense)                (None, 10)                330       \r\n",
      "_________________________________________________________________\r\n",
      "activation (Activation)      (None, 10)                0         \r\n",
      "=================================================================\r\n",
      "Total params: 6,218\r\n",
      "Trainable params: 6,218\r\n",
      "Non-trainable params: 0\r\n",
      "_________________________________________________________________\r\n"
     ]
    }
   ],
   "source": [
    "model.summary()"
   ]
  },
  {
   "cell_type": "code",
   "execution_count": 11,
   "metadata": {},
   "outputs": [
    {
     "name": "stdout",
     "output_type": "stream",
     "text": [
      "Epoch 1/10\r\n",
      "\r",
      " 1/40 [..............................] - ETA: 0s - loss: 82.0598 - accuracy: 0.1250\b\b\b\b\b\b\b\b\b\b\b\b\b\b\b\b\b\b\b\b\b\b\b\b\b\b\b\b\b\b\b\b\b\b\b\b\b\b\b\b\b\b\b\b\b\b\b\b\b\b\b\b\b\b\b\b\b\b\b\b\b\b\b\b\b\b\b\b\b\b\b\b\b\b\b\b\b\b\b\b\b\b\b\r",
      " 7/40 [====>.........................] - ETA: 0s - loss: 53.1220 - accuracy: 0.1205\b\b\b\b\b\b\b\b\b\b\b\b\b\b\b\b\b\b\b\b\b\b\b\b\b\b\b\b\b\b\b\b\b\b\b\b\b\b\b\b\b\b\b\b\b\b\b\b\b\b\b\b\b\b\b\b\b\b\b\b\b\b\b\b\b\b\b\b\b\b\b\b\b\b\b\b\b\b\b\b\b\b\b\r",
      "13/40 [========>.....................] - ETA: 0s - loss: 39.5912 - accuracy: 0.1142\b\b\b\b\b\b\b\b\b\b\b\b\b\b\b\b\b\b\b\b\b\b\b\b\b\b\b\b\b\b\b\b\b\b\b\b\b\b\b\b\b\b\b\b\b\b\b\b\b\b\b\b\b\b\b\b\b\b\b\b\b\b\b\b\b\b\b\b\b\b\b\b\b\b\b\b\b\b\b\b\b\b\b\r",
      "20/40 [==============>...............] - ETA: 0s - loss: 29.7737 - accuracy: 0.1133\b\b\b\b\b\b\b\b\b\b\b\b\b\b\b\b\b\b\b\b\b\b\b\b\b\b\b\b\b\b\b\b\b\b\b\b\b\b\b\b\b\b\b\b\b\b\b\b\b\b\b\b\b\b\b\b\b\b\b\b\b\b\b\b\b\b\b\b\b\b\b\b\b\b\b\b\b\b\b\b\b\b\b\r",
      "26/40 [==================>...........] - ETA: 0s - loss: 24.4876 - accuracy: 0.1205\b\b\b\b\b\b\b\b\b\b\b\b\b\b\b\b\b\b\b\b\b\b\b\b\b\b\b\b\b\b\b\b\b\b\b\b\b\b\b\b\b\b\b\b\b\b\b\b\b\b\b\b\b\b\b\b\b\b\b\b\b\b\b\b\b\b\b\b\b\b\b\b\b\b\b\b\b\b\b\b\b\b\b\r",
      "33/40 [=======================>......] - ETA: 0s - loss: 20.4145 - accuracy: 0.1338\b\b\b\b\b\b\b\b\b\b\b\b\b\b\b\b\b\b\b\b\b\b\b\b\b\b\b\b\b\b\b\b\b\b\b\b\b\b\b\b\b\b\b\b\b\b\b\b\b\b\b\b\b\b\b\b\b\b\b\b\b\b\b\b\b\b\b\b\b\b\b\b\b\b\b\b\b\b\b\b\b\b\b\r",
      "40/40 [==============================] - 0s 12ms/step - loss: 17.9408 - accuracy: 0.1494 - val_loss: 4.3132 - val_accuracy: 0.2660\r\n",
      "Epoch 2/10\r\n",
      "\r",
      " 1/40 [..............................] - ETA: 0s - loss: 4.2652 - accuracy: 0.2344\b\b\b\b\b\b\b\b\b\b\b\b\b\b\b\b\b\b\b\b\b\b\b\b\b\b\b\b\b\b\b\b\b\b\b\b\b\b\b\b\b\b\b\b\b\b\b\b\b\b\b\b\b\b\b\b\b\b\b\b\b\b\b\b\b\b\b\b\b\b\b\b\b\b\b\b\b\b\b\b\b\b\r",
      " 7/40 [====>.........................] - ETA: 0s - loss: 3.8129 - accuracy: 0.2567\b\b\b\b\b\b\b\b\b\b\b\b\b\b\b\b\b\b\b\b\b\b\b\b\b\b\b\b\b\b\b\b\b\b\b\b\b\b\b\b\b\b\b\b\b\b\b\b\b\b\b\b\b\b\b\b\b\b\b\b\b\b\b\b\b\b\b\b\b\b\b\b\b\b\b\b\b\b\b\b\b\b\r",
      "13/40 [========>.....................] - ETA: 0s - loss: 3.7041 - accuracy: 0.2668\b\b\b\b\b\b\b\b\b\b\b\b\b\b\b\b\b\b\b\b\b\b\b\b\b\b\b\b\b\b\b\b\b\b\b\b\b\b\b\b\b\b\b\b\b\b\b\b\b\b\b\b\b\b\b\b\b\b\b\b\b\b\b\b\b\b\b\b\b\b\b\b\b\b\b\b\b\b\b\b\b\b\r",
      "20/40 [==============>...............] - ETA: 0s - loss: 3.4594 - accuracy: 0.2746\b\b\b\b\b\b\b\b\b\b\b\b\b\b\b\b\b\b\b\b\b\b\b\b\b\b\b\b\b\b\b\b\b\b\b\b\b\b\b\b\b\b\b\b\b\b\b\b\b\b\b\b\b\b\b\b\b\b\b\b\b\b\b\b\b\b\b\b\b\b\b\b\b\b\b\b\b\b\b\b\b\b\r",
      "28/40 [====================>.........] - ETA: 0s - loss: 3.3033 - accuracy: 0.2899\b\b\b\b\b\b\b\b\b\b\b\b\b\b\b\b\b\b\b\b\b\b\b\b\b\b\b\b\b\b\b\b\b\b\b\b\b\b\b\b\b\b\b\b\b\b\b\b\b\b\b\b\b\b\b\b\b\b\b\b\b\b\b\b\b\b\b\b\b\b\b\b\b\b\b\b\b\b\b\b\b\b\r",
      "36/40 [==========================>...] - ETA: 0s - loss: 3.1862 - accuracy: 0.3064\b\b\b\b\b\b\b\b\b\b\b\b\b\b\b\b\b\b\b\b\b\b\b\b\b\b\b\b\b\b\b\b\b\b\b\b\b\b\b\b\b\b\b\b\b\b\b\b\b\b\b\b\b\b\b\b\b\b\b\b\b\b\b\b\b\b\b\b\b\b\b\b\b\b\b\b\b\b\b\b\b\b\r",
      "40/40 [==============================] - 0s 8ms/step - loss: 3.1324 - accuracy: 0.3140 - val_loss: 2.8291 - val_accuracy: 0.3520\r\n",
      "Epoch 3/10\r\n",
      "\r",
      " 1/40 [..............................] - ETA: 0s - loss: 2.5052 - accuracy: 0.3906\b\b\b\b\b\b\b\b\b\b\b\b\b\b\b\b\b\b\b\b\b\b\b\b\b\b\b\b\b\b\b\b\b\b\b\b\b\b\b\b\b\b\b\b\b\b\b\b\b\b\b\b\b\b\b\b\b\b\b\b\b\b\b\b\b\b\b\b\b\b\b\b\b\b\b\b\b\b\b\b\b\b\r",
      " 9/40 [=====>........................] - ETA: 0s - loss: 2.4242 - accuracy: 0.4010\b\b\b\b\b\b\b\b\b\b\b\b\b\b\b\b\b\b\b\b\b\b\b\b\b\b\b\b\b\b\b\b\b\b\b\b\b\b\b\b\b\b\b\b\b\b\b\b\b\b\b\b\b\b\b\b\b\b\b\b\b\b\b\b\b\b\b\b\b\b\b\b\b\b\b\b\b\b\b\b\b\b\r",
      "17/40 [===========>..................] - ETA: 0s - loss: 2.3207 - accuracy: 0.4150\b\b\b\b\b\b\b\b\b\b\b\b\b\b\b\b\b\b\b\b\b\b\b\b\b\b\b\b\b\b\b\b\b\b\b\b\b\b\b\b\b\b\b\b\b\b\b\b\b\b\b\b\b\b\b\b\b\b\b\b\b\b\b\b\b\b\b\b\b\b\b\b\b\b\b\b\b\b\b\b\b\b\r",
      "25/40 [=================>............] - ETA: 0s - loss: 2.2406 - accuracy: 0.4238\b\b\b\b\b\b\b\b\b\b\b\b\b\b\b\b\b\b\b\b\b\b\b\b\b\b\b\b\b\b\b\b\b\b\b\b\b\b\b\b\b\b\b\b\b\b\b\b\b\b\b\b\b\b\b\b\b\b\b\b\b\b\b\b\b\b\b\b\b\b\b\b\b\b\b\b\b\b\b\b\b\b\r",
      "33/40 [=======================>......] - ETA: 0s - loss: 2.2045 - accuracy: 0.4219\b\b\b\b\b\b\b\b\b\b\b\b\b\b\b\b\b\b\b\b\b\b\b\b\b\b\b\b\b\b\b\b\b\b\b\b\b\b\b\b\b\b\b\b\b\b\b\b\b\b\b\b\b\b\b\b\b\b\b\b\b\b\b\b\b\b\b\b\b\b\b\b\b\b\b\b\b\b\b\b\b\b\r",
      "40/40 [==============================] - 0s 7ms/step - loss: 2.1829 - accuracy: 0.4230 - val_loss: 2.1985 - val_accuracy: 0.4220\r\n",
      "Epoch 4/10\r\n",
      "\r",
      " 1/40 [..............................] - ETA: 0s - loss: 1.7033 - accuracy: 0.4609\b\b\b\b\b\b\b\b\b\b\b\b\b\b\b\b\b\b\b\b\b\b\b\b\b\b\b\b\b\b\b\b\b\b\b\b\b\b\b\b\b\b\b\b\b\b\b\b\b\b\b\b\b\b\b\b\b\b\b\b\b\b\b\b\b\b\b\b\b\b\b\b\b\b\b\b\b\b\b\b\b\b\r",
      " 9/40 [=====>........................] - ETA: 0s - loss: 1.7594 - accuracy: 0.5026\b\b\b\b\b\b\b\b\b\b\b\b\b\b\b\b\b\b\b\b\b\b\b\b\b\b\b\b\b\b\b\b\b\b\b\b\b\b\b\b\b\b\b\b\b\b\b\b\b\b\b\b\b\b\b\b\b\b\b\b\b\b\b\b\b\b\b\b\b\b\b\b\b\b\b\b\b\b\b\b\b\b\r",
      "17/40 [===========>..................] - ETA: 0s - loss: 1.7666 - accuracy: 0.5064\b\b\b\b\b\b\b\b\b\b\b\b\b\b\b\b\b\b\b\b\b\b\b\b\b\b\b\b\b\b\b\b\b\b\b\b\b\b\b\b\b\b\b\b\b\b\b\b\b\b\b\b\b\b\b\b\b\b\b\b\b\b\b\b\b\b\b\b\b\b\b\b\b\b\b\b\b\b\b\b\b\b\r",
      "25/40 [=================>............] - ETA: 0s - loss: 1.7517 - accuracy: 0.5053\b\b\b\b\b\b\b\b\b\b\b\b\b\b\b\b\b\b\b\b\b\b\b\b\b\b\b\b\b\b\b\b\b\b\b\b\b\b\b\b\b\b\b\b\b\b\b\b\b\b\b\b\b\b\b\b\b\b\b\b\b\b\b\b\b\b\b\b\b\b\b\b\b\b\b\b\b\b\b\b\b\b\r",
      "32/40 [=======================>......] - ETA: 0s - loss: 1.6981 - accuracy: 0.5190\b\b\b\b\b\b\b\b\b\b\b\b\b\b\b\b\b\b\b\b\b\b\b\b\b\b\b\b\b\b\b\b\b\b\b\b\b\b\b\b\b\b\b\b\b\b\b\b\b\b\b\b\b\b\b\b\b\b\b\b\b\b\b\b\b\b\b\b\b\b\b\b\b\b\b\b\b\b\b\b\b\b\r",
      "39/40 [============================>.] - ETA: 0s - loss: 1.6514 - accuracy: 0.5288\b\b\b\b\b\b\b\b\b\b\b\b\b\b\b\b\b\b\b\b\b\b\b\b\b\b\b\b\b\b\b\b\b\b\b\b\b\b\b\b\b\b\b\b\b\b\b\b\b\b\b\b\b\b\b\b\b\b\b\b\b\b\b\b\b\b\b\b\b\b\b\b\b\b\b\b\b\b\b\b\b\b\r",
      "40/40 [==============================] - 0s 8ms/step - loss: 1.6495 - accuracy: 0.5292 - val_loss: 1.8756 - val_accuracy: 0.5000\r\n",
      "Epoch 5/10\r\n",
      "\r",
      " 1/40 [..............................] - ETA: 0s - loss: 1.2664 - accuracy: 0.6016\b\b\b\b\b\b\b\b\b\b\b\b\b\b\b\b\b\b\b\b\b\b\b\b\b\b\b\b\b\b\b\b\b\b\b\b\b\b\b\b\b\b\b\b\b\b\b\b\b\b\b\b\b\b\b\b\b\b\b\b\b\b\b\b\b\b\b\b\b\b\b\b\b\b\b\b\b\b\b\b\b\b\r",
      " 9/40 [=====>........................] - ETA: 0s - loss: 1.3385 - accuracy: 0.5877\b\b\b\b\b\b\b\b\b\b\b\b\b\b\b\b\b\b\b\b\b\b\b\b\b\b\b\b\b\b\b\b\b\b\b\b\b\b\b\b\b\b\b\b\b\b\b\b\b\b\b\b\b\b\b\b\b\b\b\b\b\b\b\b\b\b\b\b\b\b\b\b\b\b\b\b\b\b\b\b\b\b\r",
      "17/40 [===========>..................] - ETA: 0s - loss: 1.3369 - accuracy: 0.5988\b\b\b\b\b\b\b\b\b\b\b\b\b\b\b\b\b\b\b\b\b\b\b\b\b\b\b\b\b\b\b\b\b\b\b\b\b\b\b\b\b\b\b\b\b\b\b\b\b\b\b\b\b\b\b\b\b\b\b\b\b\b\b\b\b\b\b\b\b\b\b\b\b\b\b\b\b\b\b\b\b\b\r",
      "24/40 [=================>............] - ETA: 0s - loss: 1.3074 - accuracy: 0.6077\b\b\b\b\b\b\b\b\b\b\b\b\b\b\b\b\b\b\b\b\b\b\b\b\b\b\b\b\b\b\b\b\b\b\b\b\b\b\b\b\b\b\b\b\b\b\b\b\b\b\b\b\b\b\b\b\b\b\b\b\b\b\b\b\b\b\b\b\b\b\b\b\b\b\b\b\b\b\b\b\b\b\r",
      "31/40 [======================>.......] - ETA: 0s - loss: 1.3139 - accuracy: 0.6071\b\b\b\b\b\b\b\b\b\b\b\b\b\b\b\b\b\b\b\b\b\b\b\b\b\b\b\b\b\b\b\b\b\b\b\b\b\b\b\b\b\b\b\b\b\b\b\b\b\b\b\b\b\b\b\b\b\b\b\b\b\b\b\b\b\b\b\b\b\b\b\b\b\b\b\b\b\b\b\b\b\b\r",
      "38/40 [===========================>..] - ETA: 0s - loss: 1.2987 - accuracy: 0.6106\b\b\b\b\b\b\b\b\b\b\b\b\b\b\b\b\b\b\b\b\b\b\b\b\b\b\b\b\b\b\b\b\b\b\b\b\b\b\b\b\b\b\b\b\b\b\b\b\b\b\b\b\b\b\b\b\b\b\b\b\b\b\b\b\b\b\b\b\b\b\b\b\b\b\b\b\b\b\b\b\b\b\r",
      "40/40 [==============================] - 0s 8ms/step - loss: 1.2955 - accuracy: 0.6120 - val_loss: 1.5316 - val_accuracy: 0.5600\r\n",
      "Epoch 6/10\r\n",
      "\r",
      " 1/40 [..............................] - ETA: 0s - loss: 1.2508 - accuracy: 0.6328\b\b\b\b\b\b\b\b\b\b\b\b\b\b\b\b\b\b\b\b\b\b\b\b\b\b\b\b\b\b\b\b\b\b\b\b\b\b\b\b\b\b\b\b\b\b\b\b\b\b\b\b\b\b\b\b\b\b\b\b\b\b\b\b\b\b\b\b\b\b\b\b\b\b\b\b\b\b\b\b\b\b\r",
      " 8/40 [=====>........................] - ETA: 0s - loss: 1.1647 - accuracy: 0.6514\b\b\b\b\b\b\b\b\b\b\b\b\b\b\b\b\b\b\b\b\b\b\b\b\b\b\b\b\b\b\b\b\b\b\b\b\b\b\b\b\b\b\b\b\b\b\b\b\b\b\b\b\b\b\b\b\b\b\b\b\b\b\b\b\b\b\b\b\b\b\b\b\b\b\b\b\b\b\b\b\b\b\r",
      "15/40 [==========>...................] - ETA: 0s - loss: 1.1385 - accuracy: 0.6562\b\b\b\b\b\b\b\b\b\b\b\b\b\b\b\b\b\b\b\b\b\b\b\b\b\b\b\b\b\b\b\b\b\b\b\b\b\b\b\b\b\b\b\b\b\b\b\b\b\b\b\b\b\b\b\b\b\b\b\b\b\b\b\b\b\b\b\b\b\b\b\b\b\b\b\b\b\b\b\b\b\b\r",
      "23/40 [================>.............] - ETA: 0s - loss: 1.1372 - accuracy: 0.6562\b\b\b\b\b\b\b\b\b\b\b\b\b\b\b\b\b\b\b\b\b\b\b\b\b\b\b\b\b\b\b\b\b\b\b\b\b\b\b\b\b\b\b\b\b\b\b\b\b\b\b\b\b\b\b\b\b\b\b\b\b\b\b\b\b\b\b\b\b\b\b\b\b\b\b\b\b\b\b\b\b\b\r",
      "30/40 [=====================>........] - ETA: 0s - loss: 1.1122 - accuracy: 0.6685\b\b\b\b\b\b\b\b\b\b\b\b\b\b\b\b\b\b\b\b\b\b\b\b\b\b\b\b\b\b\b\b\b\b\b\b\b\b\b\b\b\b\b\b\b\b\b\b\b\b\b\b\b\b\b\b\b\b\b\b\b\b\b\b\b\b\b\b\b\b\b\b\b\b\b\b\b\b\b\b\b\b\r",
      "38/40 [===========================>..] - ETA: 0s - loss: 1.0820 - accuracy: 0.6780\b\b\b\b\b\b\b\b\b\b\b\b\b\b\b\b\b\b\b\b\b\b\b\b\b\b\b\b\b\b\b\b\b\b\b\b\b\b\b\b\b\b\b\b\b\b\b\b\b\b\b\b\b\b\b\b\b\b\b\b\b\b\b\b\b\b\b\b\b\b\b\b\b\b\b\b\b\b\b\b\b\b\r",
      "40/40 [==============================] - 0s 7ms/step - loss: 1.0725 - accuracy: 0.6812 - val_loss: 1.3748 - val_accuracy: 0.5960\r\n",
      "Epoch 7/10\r\n",
      "\r",
      " 1/40 [..............................] - ETA: 0s - loss: 1.2350 - accuracy: 0.6797\b\b\b\b\b\b\b\b\b\b\b\b\b\b\b\b\b\b\b\b\b\b\b\b\b\b\b\b\b\b\b\b\b\b\b\b\b\b\b\b\b\b\b\b\b\b\b\b\b\b\b\b\b\b\b\b\b\b\b\b\b\b\b\b\b\b\b\b\b\b\b\b\b\b\b\b\b\b\b\b\b\b\r",
      " 9/40 [=====>........................] - ETA: 0s - loss: 0.9182 - accuracy: 0.7196\b\b\b\b\b\b\b\b\b\b\b\b\b\b\b\b\b\b\b\b\b\b\b\b\b\b\b\b\b\b\b\b\b\b\b\b\b\b\b\b\b\b\b\b\b\b\b\b\b\b\b\b\b\b\b\b\b\b\b\b\b\b\b\b\b\b\b\b\b\b\b\b\b\b\b\b\b\b\b\b\b\b\r",
      "16/40 [===========>..................] - ETA: 0s - loss: 0.9371 - accuracy: 0.7212\b\b\b\b\b\b\b\b\b\b\b\b\b\b\b\b\b\b\b\b\b\b\b\b\b\b\b\b\b\b\b\b\b\b\b\b\b\b\b\b\b\b\b\b\b\b\b\b\b\b\b\b\b\b\b\b\b\b\b\b\b\b\b\b\b\b\b\b\b\b\b\b\b\b\b\b\b\b\b\b\b\b\r",
      "23/40 [================>.............] - ETA: 0s - loss: 0.9208 - accuracy: 0.7235\b\b\b\b\b\b\b\b\b\b\b\b\b\b\b\b\b\b\b\b\b\b\b\b\b\b\b\b\b\b\b\b\b\b\b\b\b\b\b\b\b\b\b\b\b\b\b\b\b\b\b\b\b\b\b\b\b\b\b\b\b\b\b\b\b\b\b\b\b\b\b\b\b\b\b\b\b\b\b\b\b\b\r",
      "31/40 [======================>.......] - ETA: 0s - loss: 0.9078 - accuracy: 0.7230\b\b\b\b\b\b\b\b\b\b\b\b\b\b\b\b\b\b\b\b\b\b\b\b\b\b\b\b\b\b\b\b\b\b\b\b\b\b\b\b\b\b\b\b\b\b\b\b\b\b\b\b\b\b\b\b\b\b\b\b\b\b\b\b\b\b\b\b\b\b\b\b\b\b\b\b\b\b\b\b\b\b\r",
      "38/40 [===========================>..] - ETA: 0s - loss: 0.9047 - accuracy: 0.7255\b\b\b\b\b\b\b\b\b\b\b\b\b\b\b\b\b\b\b\b\b\b\b\b\b\b\b\b\b\b\b\b\b\b\b\b\b\b\b\b\b\b\b\b\b\b\b\b\b\b\b\b\b\b\b\b\b\b\b\b\b\b\b\b\b\b\b\b\b\b\b\b\b\b\b\b\b\b\b\b\b\b\r",
      "40/40 [==============================] - 0s 8ms/step - loss: 0.8965 - accuracy: 0.7272 - val_loss: 1.2229 - val_accuracy: 0.6420\r\n",
      "Epoch 8/10\r\n",
      "\r",
      " 1/40 [..............................] - ETA: 0s - loss: 0.9280 - accuracy: 0.7422\b\b\b\b\b\b\b\b\b\b\b\b\b\b\b\b\b\b\b\b\b\b\b\b\b\b\b\b\b\b\b\b\b\b\b\b\b\b\b\b\b\b\b\b\b\b\b\b\b\b\b\b\b\b\b\b\b\b\b\b\b\b\b\b\b\b\b\b\b\b\b\b\b\b\b\b\b\b\b\b\b\b\r",
      " 9/40 [=====>........................] - ETA: 0s - loss: 0.8455 - accuracy: 0.7526\b\b\b\b\b\b\b\b\b\b\b\b\b\b\b\b\b\b\b\b\b\b\b\b\b\b\b\b\b\b\b\b\b\b\b\b\b\b\b\b\b\b\b\b\b\b\b\b\b\b\b\b\b\b\b\b\b\b\b\b\b\b\b\b\b\b\b\b\b\b\b\b\b\b\b\b\b\b\b\b\b\b\r",
      "16/40 [===========>..................] - ETA: 0s - loss: 0.7582 - accuracy: 0.7739\b\b\b\b\b\b\b\b\b\b\b\b\b\b\b\b\b\b\b\b\b\b\b\b\b\b\b\b\b\b\b\b\b\b\b\b\b\b\b\b\b\b\b\b\b\b\b\b\b\b\b\b\b\b\b\b\b\b\b\b\b\b\b\b\b\b\b\b\b\b\b\b\b\b\b\b\b\b\b\b\b\b\r",
      "23/40 [================>.............] - ETA: 0s - loss: 0.7624 - accuracy: 0.7731\b\b\b\b\b\b\b\b\b\b\b\b\b\b\b\b\b\b\b\b\b\b\b\b\b\b\b\b\b\b\b\b\b\b\b\b\b\b\b\b\b\b\b\b\b\b\b\b\b\b\b\b\b\b\b\b\b\b\b\b\b\b\b\b\b\b\b\b\b\b\b\b\b\b\b\b\b\b\b\b\b\b\r",
      "31/40 [======================>.......] - ETA: 0s - loss: 0.7570 - accuracy: 0.7699\b\b\b\b\b\b\b\b\b\b\b\b\b\b\b\b\b\b\b\b\b\b\b\b\b\b\b\b\b\b\b\b\b\b\b\b\b\b\b\b\b\b\b\b\b\b\b\b\b\b\b\b\b\b\b\b\b\b\b\b\b\b\b\b\b\b\b\b\b\b\b\b\b\b\b\b\b\b\b\b\b\b\r",
      "38/40 [===========================>..] - ETA: 0s - loss: 0.7600 - accuracy: 0.7636\b\b\b\b\b\b\b\b\b\b\b\b\b\b\b\b\b\b\b\b\b\b\b\b\b\b\b\b\b\b\b\b\b\b\b\b\b\b\b\b\b\b\b\b\b\b\b\b\b\b\b\b\b\b\b\b\b\b\b\b\b\b\b\b\b\b\b\b\b\b\b\b\b\b\b\b\b\b\b\b\b\b\r",
      "40/40 [==============================] - 0s 8ms/step - loss: 0.7589 - accuracy: 0.7638 - val_loss: 1.0887 - val_accuracy: 0.6740\r\n",
      "Epoch 9/10\r\n",
      "\r",
      " 1/40 [..............................] - ETA: 0s - loss: 0.6878 - accuracy: 0.7812\b\b\b\b\b\b\b\b\b\b\b\b\b\b\b\b\b\b\b\b\b\b\b\b\b\b\b\b\b\b\b\b\b\b\b\b\b\b\b\b\b\b\b\b\b\b\b\b\b\b\b\b\b\b\b\b\b\b\b\b\b\b\b\b\b\b\b\b\b\b\b\b\b\b\b\b\b\b\b\b\b\b\r",
      " 9/40 [=====>........................] - ETA: 0s - loss: 0.6580 - accuracy: 0.7804\b\b\b\b\b\b\b\b\b\b\b\b\b\b\b\b\b\b\b\b\b\b\b\b\b\b\b\b\b\b\b\b\b\b\b\b\b\b\b\b\b\b\b\b\b\b\b\b\b\b\b\b\b\b\b\b\b\b\b\b\b\b\b\b\b\b\b\b\b\b\b\b\b\b\b\b\b\b\b\b\b\b\r",
      "17/40 [===========>..................] - ETA: 0s - loss: 0.6647 - accuracy: 0.7895\b\b\b\b\b\b\b\b\b\b\b\b\b\b\b\b\b\b\b\b\b\b\b\b\b\b\b\b\b\b\b\b\b\b\b\b\b\b\b\b\b\b\b\b\b\b\b\b\b\b\b\b\b\b\b\b\b\b\b\b\b\b\b\b\b\b\b\b\b\b\b\b\b\b\b\b\b\b\b\b\b\b\r",
      "25/40 [=================>............] - ETA: 0s - loss: 0.6532 - accuracy: 0.7947\b\b\b\b\b\b\b\b\b\b\b\b\b\b\b\b\b\b\b\b\b\b\b\b\b\b\b\b\b\b\b\b\b\b\b\b\b\b\b\b\b\b\b\b\b\b\b\b\b\b\b\b\b\b\b\b\b\b\b\b\b\b\b\b\b\b\b\b\b\b\b\b\b\b\b\b\b\b\b\b\b\b\r",
      "33/40 [=======================>......] - ETA: 0s - loss: 0.6552 - accuracy: 0.7924\b\b\b\b\b\b\b\b\b\b\b\b\b\b\b\b\b\b\b\b\b\b\b\b\b\b\b\b\b\b\b\b\b\b\b\b\b\b\b\b\b\b\b\b\b\b\b\b\b\b\b\b\b\b\b\b\b\b\b\b\b\b\b\b\b\b\b\b\b\b\b\b\b\b\b\b\b\b\b\b\b\b\r",
      "40/40 [==============================] - 0s 7ms/step - loss: 0.6513 - accuracy: 0.7980 - val_loss: 1.0051 - val_accuracy: 0.6950\r\n",
      "Epoch 10/10\r\n",
      "\r",
      " 1/40 [..............................] - ETA: 0s - loss: 0.7923 - accuracy: 0.7812\b\b\b\b\b\b\b\b\b\b\b\b\b\b\b\b\b\b\b\b\b\b\b\b\b\b\b\b\b\b\b\b\b\b\b\b\b\b\b\b\b\b\b\b\b\b\b\b\b\b\b\b\b\b\b\b\b\b\b\b\b\b\b\b\b\b\b\b\b\b\b\b\b\b\b\b\b\b\b\b\b\b\r",
      " 9/40 [=====>........................] - ETA: 0s - loss: 0.6301 - accuracy: 0.8160\b\b\b\b\b\b\b\b\b\b\b\b\b\b\b\b\b\b\b\b\b\b\b\b\b\b\b\b\b\b\b\b\b\b\b\b\b\b\b\b\b\b\b\b\b\b\b\b\b\b\b\b\b\b\b\b\b\b\b\b\b\b\b\b\b\b\b\b\b\b\b\b\b\b\b\b\b\b\b\b\b\b\r",
      "17/40 [===========>..................] - ETA: 0s - loss: 0.6126 - accuracy: 0.8139\b\b\b\b\b\b\b\b\b\b\b\b\b\b\b\b\b\b\b\b\b\b\b\b\b\b\b\b\b\b\b\b\b\b\b\b\b\b\b\b\b\b\b\b\b\b\b\b\b\b\b\b\b\b\b\b\b\b\b\b\b\b\b\b\b\b\b\b\b\b\b\b\b\b\b\b\b\b\b\b\b\b\r",
      "25/40 [=================>............] - ETA: 0s - loss: 0.6129 - accuracy: 0.8134\b\b\b\b\b\b\b\b\b\b\b\b\b\b\b\b\b\b\b\b\b\b\b\b\b\b\b\b\b\b\b\b\b\b\b\b\b\b\b\b\b\b\b\b\b\b\b\b\b\b\b\b\b\b\b\b\b\b\b\b\b\b\b\b\b\b\b\b\b\b\b\b\b\b\b\b\b\b\b\b\b\b\r",
      "33/40 [=======================>......] - ETA: 0s - loss: 0.5935 - accuracy: 0.8156\b\b\b\b\b\b\b\b\b\b\b\b\b\b\b\b\b\b\b\b\b\b\b\b\b\b\b\b\b\b\b\b\b\b\b\b\b\b\b\b\b\b\b\b\b\b\b\b\b\b\b\b\b\b\b\b\b\b\b\b\b\b\b\b\b\b\b\b\b\b\b\b\b\b\b\b\b\b\b\b\b\b\r",
      "40/40 [==============================] - 0s 7ms/step - loss: 0.5929 - accuracy: 0.8164 - val_loss: 0.9533 - val_accuracy: 0.7070\r\n"
     ]
    },
    {
     "data": {
      "text/plain": [
       "PyObject <tensorflow.python.keras.callbacks.History object at 0x0000000061231400>"
      ]
     },
     "execution_count": 11,
     "metadata": {},
     "output_type": "execute_result"
    }
   ],
   "source": [
    "history=model.fit(x_train_reshape,y_train_cat,epochs=10,batch_size=128,validation_data=(x_test_reshape,y_test_cat))"
   ]
  },
  {
   "cell_type": "code",
   "execution_count": 54,
   "metadata": {},
   "outputs": [],
   "source": [
    "@pyimport matplotlib.pyplot as plt"
   ]
  },
  {
   "cell_type": "code",
   "execution_count": null,
   "metadata": {},
   "outputs": [],
   "source": [
    "plt.plot(history.history[\"loss\"],label=[\"Training Loss\"])"
   ]
  },
  {
   "cell_type": "code",
   "execution_count": null,
   "metadata": {},
   "outputs": [],
   "source": []
  }
 ],
 "metadata": {
  "kernelspec": {
   "display_name": "Julia 1.5.3",
   "language": "julia",
   "name": "julia-1.5"
  },
  "language_info": {
   "file_extension": ".jl",
   "mimetype": "application/julia",
   "name": "julia",
   "version": "1.5.3"
  }
 },
 "nbformat": 4,
 "nbformat_minor": 4
}
